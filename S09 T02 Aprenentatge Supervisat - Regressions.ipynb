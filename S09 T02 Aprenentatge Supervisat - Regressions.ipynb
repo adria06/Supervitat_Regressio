{
 "cells": [
  {
   "cell_type": "markdown",
   "id": "d924462e",
   "metadata": {},
   "source": [
    "# S09 T02: Aprenentatge Supervisat - Regressions\n"
   ]
  },
  {
   "cell_type": "markdown",
   "id": "336d1ebc",
   "metadata": {},
   "source": [
    "**Descripció**\n",
    "\n",
    "Anem a practicar i a familiaritzar-nos amb regressions\n",
    "\n",
    "**Objectius**\n",
    "\n",
    " * Models de regressió\n",
    " * Àrbres de regressió\n",
    " * Random Forest\n",
    " * Xarxes Neuronals\n",
    " * Altres models\n",
    " \n",
    "## Exercici 1\n",
    "Crea almenys tres models de regressió diferents per intentar predir el millor possible l’endarreriment dels vols (ArrDelay) de DelayedFlights.csv.\n",
    "\n"
   ]
  },
  {
   "cell_type": "code",
   "execution_count": 95,
   "id": "4efb1323",
   "metadata": {},
   "outputs": [],
   "source": [
    "import numpy as np\n",
    "import pandas as pd\n",
    "import matplotlib.pyplot as plt\n",
    "import seaborn as sns\n",
    "\n",
    "from sklearn.model_selection import train_test_split"
   ]
  },
  {
   "cell_type": "code",
   "execution_count": 96,
   "id": "0d8f5bc3",
   "metadata": {},
   "outputs": [],
   "source": [
    "# The models normally performs better with data that has been pre-cleaned and prepared before it can used\n",
    "# We upload the sample Prepared (Cleaned, Normallize, Standarize & Dummy Var) from the Exercise S09 T01\n",
    "df_sample = pd.read_csv ('DelayFlightsPreparedDataSample_NO_PCA.csv')"
   ]
  },
  {
   "cell_type": "code",
   "execution_count": 97,
   "id": "34ec89c8",
   "metadata": {},
   "outputs": [
    {
     "data": {
      "text/plain": [
       "(20000, 652)"
      ]
     },
     "execution_count": 97,
     "metadata": {},
     "output_type": "execute_result"
    }
   ],
   "source": [
    "df_sample.shape"
   ]
  },
  {
   "cell_type": "markdown",
   "id": "e4b02f7e",
   "metadata": {},
   "source": [
    "Before we aply any model we do the train-test-split"
   ]
  },
  {
   "cell_type": "code",
   "execution_count": 98,
   "id": "908b16e7",
   "metadata": {},
   "outputs": [
    {
     "name": "stdout",
     "output_type": "stream",
     "text": [
      "(15000, 651) (5000, 651) (15000,) (5000,)\n"
     ]
    }
   ],
   "source": [
    "#The target variable is ArrDelay \n",
    "X = df_sample.drop(['ArrDelay'], axis=1).values\n",
    "y = df_sample.ArrDelay.values\n",
    "\n",
    "X_train_sample, X_test_sample, y_train_sample, y_test_sample = train_test_split(X, y, test_size=0.25, random_state=1)\n",
    "print(X_train_sample.shape, X_test_sample.shape, y_train_sample.shape, y_test_sample.shape)"
   ]
  },
  {
   "cell_type": "markdown",
   "id": "46ba0bfd",
   "metadata": {},
   "source": [
    "### Multiple Linear Regression\n",
    "\n",
    "Biography: Good link about lineal, mulptiple and polynomial Regressions.\n",
    "https://realpython.com/linear-regression-in-python/"
   ]
  },
  {
   "cell_type": "code",
   "execution_count": 99,
   "id": "48f3b130",
   "metadata": {},
   "outputs": [],
   "source": [
    "from sklearn.linear_model import LinearRegression"
   ]
  },
  {
   "cell_type": "code",
   "execution_count": 100,
   "id": "55287c82",
   "metadata": {},
   "outputs": [],
   "source": [
    "model = LinearRegression().fit(X_train_sample, y_train_sample)\n"
   ]
  },
  {
   "cell_type": "code",
   "execution_count": 101,
   "id": "f3a9e8a0",
   "metadata": {},
   "outputs": [
    {
     "name": "stdout",
     "output_type": "stream",
     "text": [
      "intercept: -8069664863.470742\n"
     ]
    }
   ],
   "source": [
    "print('intercept:', model.intercept_)"
   ]
  },
  {
   "cell_type": "code",
   "execution_count": 102,
   "id": "3a8f07c1",
   "metadata": {},
   "outputs": [
    {
     "name": "stdout",
     "output_type": "stream",
     "text": [
      "slope: [ 3.90491264e+06 -5.47649659e-05 -2.85191969e-05 -1.54316741e-04\n",
      "  1.36089837e-03 -1.31263745e-03  1.44639691e-03 -1.49735052e-03\n",
      "  9.55242908e+06 -2.18794320e-03 -9.55242908e+06  2.87745870e-03\n",
      " -3.70328961e-02 -5.03075150e+07 -1.36952100e+08 -1.47353197e+07\n",
      "  3.74040100e-03 -5.36767766e-05 -2.85580754e-05 -5.67906536e-05\n",
      " -1.95945984e-04 -4.96525317e-05  2.94985355e+04  2.94985394e+04\n",
      "  2.94985509e+04  2.94985392e+04  2.94985408e+04  2.94985373e+04\n",
      "  2.94985377e+04  2.94985420e+04  2.94985367e+04  2.94985390e+04\n",
      "  2.94985353e+04  2.94985388e+04  2.94985390e+04  2.94985359e+04\n",
      "  2.94985373e+04  2.94985352e+04  2.94985407e+04  2.94985406e+04\n",
      "  2.94985391e+04  2.94985395e+04  9.70099557e+03  9.70098610e+03\n",
      "  9.70098807e+03  9.70100438e+03  9.70096567e+03  9.70099441e+03\n",
      "  9.70099613e+03 -1.55883928e+05  1.19464639e+05  9.70104128e+03\n",
      "  9.70097763e+03  9.70100758e+03  1.46099735e+05  9.70098871e+03\n",
      "  1.39333240e+05  9.70097914e+03  9.70099812e+03  9.70098173e+03\n",
      "  9.70098875e+03  9.70099677e+03  9.70099046e+03  9.70094341e+03\n",
      "  9.70098269e+03  9.70099447e+03  9.70099920e+03  9.70099568e+03\n",
      "  9.70098050e+03  9.70101888e+03  9.70099369e+03  9.70099042e+03\n",
      "  9.70100949e+03  9.70099015e+03  3.74517199e+05 -1.68269262e+05\n",
      "  9.70100213e+03  9.70098916e+03  9.70100332e+03  9.70098755e+03\n",
      " -3.90693528e+04  9.70099831e+03  9.70100308e+03  4.46590541e+04\n",
      "  9.70100306e+03  7.24005839e+04  9.70099166e+03  9.70099122e+03\n",
      "  9.70098844e+03  9.70099476e+03  9.70098857e+03  9.70099238e+03\n",
      "  9.70098058e+03  9.70098665e+03 -4.25574126e+04  9.70094438e+03\n",
      "  9.70099803e+03  9.70098882e+03 -8.05383898e+04  9.70100307e+03\n",
      "  9.70095700e+03  9.70098673e+03  9.70099198e+03  9.70098979e+03\n",
      "  9.70096511e+03  9.70098965e+03  9.70098542e+03  9.70098553e+03\n",
      "  2.04245197e+05  1.31639572e+05  9.70099905e+03  9.70097918e+03\n",
      "  9.70097593e+03  9.70096941e+03  9.70099859e+03  9.70098520e+03\n",
      "  9.70094351e+03  9.70099669e+03  9.70100019e+03  9.70100010e+03\n",
      "  9.70101739e+03  9.70098595e+03  9.70098917e+03  9.70099156e+03\n",
      "  9.70102283e+03  5.65787915e+04  9.70097758e+03  9.70098005e+03\n",
      "  9.70099656e+03  9.70099027e+03  9.70098620e+03  9.30726918e+04\n",
      "  9.70094844e+03  9.70099406e+03  9.70100553e+03  9.70097324e+03\n",
      "  9.70100901e+03  9.70098672e+03  9.70099412e+03  9.70095870e+03\n",
      "  9.70098213e+03  9.70099712e+03  9.70098016e+03  9.70097548e+03\n",
      "  9.70097137e+03  9.70100639e+03  9.70099349e+03 -9.32555608e+04\n",
      "  9.70099743e+03  9.70099499e+03  9.70100436e+03  9.70101452e+03\n",
      "  9.70095832e+03  9.70099264e+03  9.70099525e+03  9.70098941e+03\n",
      "  9.70099542e+03  1.08186531e+05  9.70098338e+03  9.70096613e+03\n",
      "  9.70099429e+03  9.70099202e+03  9.70098127e+03  9.70097764e+03\n",
      " -5.73845822e+04  9.70095210e+03  9.70097847e+03  9.70100526e+03\n",
      "  9.70100177e+03 -9.78282728e+04  9.70099920e+03  9.70098583e+03\n",
      "  9.70098761e+03  9.70097547e+03  9.70099241e+03  9.70098489e+03\n",
      " -3.60646577e+03  9.70098682e+03  9.70098794e+03  9.70100070e+03\n",
      "  9.70097946e+03  9.70098445e+03  9.70098895e+03 -6.42469649e+04\n",
      "  9.70095043e+03  9.70098805e+03 -1.88661497e+04  9.70098386e+03\n",
      "  9.70098393e+03  9.70100596e+03  9.70098624e+03  9.70098682e+03\n",
      "  9.70098461e+03  9.70100002e+03  9.70099255e+03  9.70097954e+03\n",
      "  9.70097393e+03  9.70098678e+03  9.70097863e+03  9.70098864e+03\n",
      "  9.70097710e+03  9.70104176e+03  9.70100220e+03  9.70096193e+03\n",
      "  9.70098865e+03  9.70098879e+03  9.70100398e+03  9.70098276e+03\n",
      "  9.70100377e+03  9.70097450e+03  9.70096609e+03  9.70102678e+03\n",
      " -5.18480209e+04  9.70099168e+03  3.12043277e+04  9.70099017e+03\n",
      "  9.70100087e+03  9.70099048e+03  7.72821196e+04  9.70098938e+03\n",
      "  9.70100751e+03  9.70098889e+03 -9.67095979e+04  9.70098304e+03\n",
      "  9.70099513e+03  9.70099970e+03  9.70100098e+03  9.70099876e+03\n",
      "  9.70098499e+03  9.70098841e+03  9.70095008e+03  9.70098066e+03\n",
      "  9.70099835e+03  9.70098754e+03  9.70099204e+03  9.70099227e+03\n",
      "  9.70098471e+03  6.13417539e+04  9.70098759e+03  9.70099796e+03\n",
      "  9.70095025e+03  9.70099170e+03  9.70099740e+03  9.70097475e+03\n",
      "  9.70099150e+03  9.70101705e+03  9.70099108e+03  9.70099017e+03\n",
      "  9.70098839e+03  9.70098981e+03  2.47908525e+04  9.70098833e+03\n",
      "  9.70099154e+03  9.70100064e+03  1.85205839e+04  9.70099587e+03\n",
      "  9.70101932e+03  9.70099842e+03  9.70098934e+03  9.70099253e+03\n",
      "  9.70098534e+03  9.70098490e+03  9.70098384e+03  9.70098864e+03\n",
      "  6.78583035e+03  1.08166772e+04  9.70098562e+03 -3.28707741e+04\n",
      "  9.70099089e+03  9.70098330e+03  9.70096584e+03  9.70101001e+03\n",
      "  9.70099653e+03  9.70096540e+03  1.12742342e+04  9.70098090e+03\n",
      "  9.70097275e+03  9.70098512e+03  9.70101229e+03  9.70098442e+03\n",
      "  9.70098879e+03 -9.19043634e+02  2.68118727e+04  9.70098432e+03\n",
      "  9.70101486e+03  9.70099275e+03  9.70095888e+03  9.70099023e+03\n",
      "  1.96255504e+04  9.70100551e+03  9.70098803e+03  9.70099226e+03\n",
      "  9.70098684e+03  9.70098771e+03  9.70100754e+03  9.70102327e+03\n",
      "  9.70098659e+03  9.70098040e+03 -5.51614840e+04  9.70099896e+03\n",
      "  9.70099032e+03  9.70098706e+03  9.70099509e+03  9.70098573e+03\n",
      "  9.70100404e+03  9.70095959e+03  9.70098406e+03  9.70097798e+03\n",
      "  9.70099278e+03  9.70098714e+03  9.70098183e+03  9.70099130e+03\n",
      "  9.70099659e+03  9.70099157e+03  9.70098751e+03  9.70099244e+03\n",
      "  9.70099178e+03  9.70098908e+03  9.70099635e+03  9.70095078e+03\n",
      " -1.08073132e+04  2.23135121e+04  9.70101079e+03  9.70099280e+03\n",
      "  9.70104673e+03  9.70097408e+03  9.70097995e+03  9.70099362e+03\n",
      "  9.70099442e+03  9.70099420e+03 -1.00372092e+03  9.70099461e+03\n",
      "  9.70098169e+03  9.70095226e+03  9.70099985e+03  9.70103726e+03\n",
      "  9.70098671e+03  9.70097031e+03  9.70099281e+03 -2.36531106e+01\n",
      " -1.11932557e+01  9.70098524e+03  9.70108794e+03  1.73847909e+00\n",
      "  9.70098211e+03  2.06563208e+05  2.06563189e+05  2.06563209e+05\n",
      "  2.06563223e+05 -7.08741582e-02  2.06563228e+05  2.06563197e+05\n",
      "  7.40524408e-02  6.51930041e-02  2.06563294e+05  2.06563207e+05\n",
      "  2.06563208e+05 -1.90523276e-03  2.06563193e+05  2.06563221e+05\n",
      "  2.06563199e+05  2.06563211e+05  2.06563209e+05  2.06563205e+05\n",
      "  2.06563206e+05  2.06563204e+05  2.06563195e+05  2.06563199e+05\n",
      "  2.06563222e+05  2.06563209e+05  2.06563176e+05  2.06563207e+05\n",
      "  2.06563196e+05  2.06563220e+05  2.06563205e+05  2.06563228e+05\n",
      "  2.06563199e+05 -7.45058060e-09  2.06563232e+05  2.06563207e+05\n",
      "  2.06563207e+05  2.06563209e+05  2.06563209e+05  2.06563225e+05\n",
      "  2.06563201e+05  2.06563206e+05  2.06563206e+05  2.06563246e+05\n",
      "  2.91038305e-11  2.06563197e+05  2.06563197e+05  2.06563204e+05\n",
      "  2.06563208e+05  2.06563208e+05  2.06563207e+05  2.06563193e+05\n",
      "  2.06563195e+05  3.41060513e-13  2.06563186e+05  2.06563221e+05\n",
      "  2.06563189e+05  2.06563182e+05  2.06563202e+05  2.06563186e+05\n",
      "  2.06563211e+05  2.06563212e+05  2.06563211e+05  2.06563238e+05\n",
      "  2.06563208e+05  2.06563212e+05  2.06563200e+05  5.55111512e-17\n",
      "  2.06563193e+05  2.06563211e+05  2.06563218e+05  2.06563210e+05\n",
      "  2.06563198e+05  2.06563208e+05  2.06563210e+05  2.06563217e+05\n",
      "  2.06563203e+05  2.06563211e+05  2.06563200e+05  2.06563207e+05\n",
      "  2.06563203e+05  2.06563209e+05  2.06563208e+05  2.06563199e+05\n",
      "  6.63531730e-17  2.06563235e+05  2.06563194e+05  2.06563203e+05\n",
      "  2.06563213e+05  2.06563190e+05 -8.67361738e-18  2.06563228e+05\n",
      "  2.06563195e+05  2.06563182e+05  2.06563215e+05  2.06563183e+05\n",
      "  2.06563188e+05  2.06563206e+05  2.06563186e+05  2.06563213e+05\n",
      "  2.06563216e+05  2.06563219e+05  2.06563191e+05  2.06563198e+05\n",
      "  2.06563300e+05  2.06563209e+05  2.42861287e-17  2.06563208e+05\n",
      "  2.06563204e+05  2.06563195e+05  2.06563210e+05  2.06563216e+05\n",
      "  2.06563199e+05  2.06563222e+05  2.06563253e+05  2.06563210e+05\n",
      "  2.06563177e+05  2.06563213e+05  2.06563225e+05  2.06563208e+05\n",
      "  2.06563208e+05  2.06563210e+05  2.06563210e+05  2.06563207e+05\n",
      "  2.06563182e+05  2.06563240e+05 -2.77555756e-17  2.06563209e+05\n",
      "  2.06563205e+05  2.06563212e+05  2.06563211e+05  2.06563208e+05\n",
      "  2.06563213e+05  2.06563213e+05  2.06563195e+05  0.00000000e+00\n",
      "  2.06563213e+05  2.06563207e+05  2.06563198e+05  2.06563222e+05\n",
      "  2.06563230e+05  2.06563207e+05  2.60208521e-17  2.06563224e+05\n",
      "  2.06563213e+05 -2.42861287e-17  2.06563200e+05  2.06563141e+05\n",
      "  2.06563176e+05  2.06563224e+05  2.06563211e+05  2.06563207e+05\n",
      "  2.06563213e+05  2.06563218e+05  2.06563239e+05  2.06563218e+05\n",
      "  2.06563207e+05  2.06563227e+05  2.06563210e+05  2.06563223e+05\n",
      "  2.06563175e+05  2.06563216e+05  2.06563217e+05  2.06563208e+05\n",
      "  2.06563208e+05  2.06563219e+05  2.06563209e+05 -3.55618313e-17\n",
      "  2.06563197e+05  2.06563185e+05  2.06563201e+05 -1.04083409e-17\n",
      "  1.04083409e-17  8.67361738e-18  2.06563200e+05  2.06563180e+05\n",
      "  2.06563206e+05 -1.73472348e-18  2.06563205e+05  2.06563196e+05\n",
      "  2.06563207e+05  2.06563220e+05  2.06563206e+05  2.06563211e+05\n",
      "  2.06563212e+05  2.06563205e+05  2.06563207e+05  2.06563203e+05\n",
      "  2.06563207e+05  2.08166817e-17  2.06563208e+05  2.06563204e+05\n",
      "  2.06563192e+05  2.06563207e+05  2.06563211e+05  2.06563181e+05\n",
      "  2.06563235e+05  2.06563209e+05  2.06563210e+05  2.06563214e+05\n",
      "  2.06563210e+05  2.06563205e+05  2.06563193e+05  2.06563210e+05\n",
      "  2.06563212e+05  2.06563209e+05  2.06563211e+05  2.06563203e+05\n",
      "  2.06563209e+05  2.50450702e-17  2.06563208e+05  2.06563209e+05\n",
      "  2.06563207e+05  2.06563202e+05 -2.08166817e-17  2.06563166e+05\n",
      "  2.06563208e+05  2.06563213e+05  2.06563210e+05  2.06563198e+05\n",
      "  2.06563209e+05  2.06563208e+05  2.06563219e+05  2.06563222e+05\n",
      "  0.00000000e+00  2.06563209e+05  0.00000000e+00  2.06563217e+05\n",
      "  2.06563218e+05  2.06563175e+05  2.06563173e+05  2.06563190e+05\n",
      "  2.06563214e+05  2.06563200e+05  2.06563200e+05  2.06563234e+05\n",
      "  2.06563206e+05  2.06563219e+05  2.06563205e+05  2.06563246e+05\n",
      "  0.00000000e+00  2.06563213e+05  2.06563178e+05  2.06563209e+05\n",
      "  2.06563216e+05  2.06563213e+05  2.06563238e+05  2.06563216e+05\n",
      "  2.06563205e+05  2.06563210e+05  2.06563209e+05  2.06563203e+05\n",
      "  2.06563195e+05  2.06563215e+05  2.06563207e+05  2.06563184e+05\n",
      "  2.06563202e+05  2.06563205e+05  2.06563206e+05  2.06563208e+05\n",
      "  2.06563201e+05  2.06563204e+05  2.06563202e+05  2.06563207e+05\n",
      "  2.06563208e+05  2.06563242e+05  2.06563208e+05  2.06563210e+05\n",
      "  2.06563219e+05  2.06563209e+05  2.06563197e+05  2.06563211e+05\n",
      "  2.06563210e+05  2.06563188e+05  2.06563203e+05  2.06563205e+05\n",
      "  2.06563212e+05  0.00000000e+00  2.06563215e+05  0.00000000e+00\n",
      "  2.06563193e+05  2.06563200e+05  0.00000000e+00  2.06563198e+05\n",
      "  2.06563192e+05  2.06563210e+05  2.06563189e+05  2.06563205e+05\n",
      "  0.00000000e+00  2.06563209e+05  2.06563215e+05  2.06563215e+05\n",
      "  2.06563209e+05  2.06563207e+05  2.06563205e+05  2.06563202e+05\n",
      "  2.06563194e+05  2.06563219e+05  0.00000000e+00  2.06563198e+05\n",
      "  2.06563234e+05  0.00000000e+00  2.06563209e+05  3.83122630e+06\n",
      "  3.83122633e+06  3.83122633e+06 -1.09040934e+07]\n"
     ]
    }
   ],
   "source": [
    "print('slope:', model.coef_)"
   ]
  },
  {
   "cell_type": "code",
   "execution_count": 103,
   "id": "ae371759",
   "metadata": {},
   "outputs": [
    {
     "data": {
      "text/plain": [
       "0.9989886485922281"
      ]
     },
     "execution_count": 103,
     "metadata": {},
     "output_type": "execute_result"
    }
   ],
   "source": [
    "# R Square/Adjusted R Square\n",
    "r_sq = model.score(X_train_sample, y_train_sample)\n",
    "r_sq"
   ]
  },
  {
   "cell_type": "markdown",
   "id": "42db9928",
   "metadata": {},
   "source": [
    "The R2 is very high so we use Adjusted R2 Square to check if it´s due to overfitting\n",
    "\n",
    "Biography: https://towardsdatascience.com/what-are-the-best-metrics-to-evaluate-your-regression-model-418ca481755b\n",
    "\n",
    "\"R Square is a good measure to determine how well the model fits the dependent variables. However, it does not take into consideration of overfitting problem. If your regression model has many independent variables, because the model is too complicated, it may fit very well to the training data but performs badly for testing data. That is why Adjusted R Square is introduced because it will penalize additional independent variables added to the model and adjust the metric to prevent overfitting issues.\""
   ]
  },
  {
   "cell_type": "code",
   "execution_count": 104,
   "id": "6b950cf9",
   "metadata": {},
   "outputs": [
    {
     "name": "stdout",
     "output_type": "stream",
     "text": [
      "0.9989886487403703 0.9989487694010266\n"
     ]
    }
   ],
   "source": [
    "#R_Square and Adjusted R Square\n",
    "import statsmodels.api as sm\n",
    "X_addC = sm.add_constant(X_train_sample)\n",
    "result = sm.OLS(y_train_sample, X_addC).fit()\n",
    "print(result.rsquared, result.rsquared_adj)"
   ]
  },
  {
   "cell_type": "code",
   "execution_count": 105,
   "id": "648cf0d8",
   "metadata": {},
   "outputs": [],
   "source": [
    "# Linear Regression Predictions\n",
    "y_pred = model.predict(X_test_sample)"
   ]
  },
  {
   "cell_type": "code",
   "execution_count": 106,
   "id": "d3876f4f",
   "metadata": {},
   "outputs": [
    {
     "name": "stdout",
     "output_type": "stream",
     "text": [
      "Mean Squared Error = 79318360.02245145\n",
      "Root Mean Squared Error = 8906.085561145897\n"
     ]
    }
   ],
   "source": [
    "# Mean Square Error(MSE)/Root Mean Square Error(RMSE)\n",
    "from sklearn.metrics import mean_squared_error\n",
    "import math\n",
    "MSE_LR = mean_squared_error(y_test_sample, y_pred)\n",
    "RMSE_LR = math.sqrt(mean_squared_error(y_test_sample, y_pred))\n",
    "print('Mean Squared Error =', MSE_LR)\n",
    "print('Root Mean Squared Error =', RMSE_LR)"
   ]
  },
  {
   "cell_type": "markdown",
   "id": "e764ee65",
   "metadata": {},
   "source": [
    "### Random Forest \n",
    "\n",
    "Biography: https://towardsdatascience.com/random-forest-in-python-24d0893d51c0"
   ]
  },
  {
   "cell_type": "code",
   "execution_count": 107,
   "id": "0bdc3f60",
   "metadata": {},
   "outputs": [],
   "source": [
    "# Import the model we are using\n",
    "from sklearn.ensemble import RandomForestRegressor"
   ]
  },
  {
   "cell_type": "code",
   "execution_count": 108,
   "id": "8c042442",
   "metadata": {},
   "outputs": [],
   "source": [
    "# Instantiate model with 100 decision trees\n",
    "rf = RandomForestRegressor(n_estimators = 100, random_state = 42)\n",
    "\n",
    "# Train the model on training data\n",
    "rf.fit(X_train_sample, y_train_sample);"
   ]
  },
  {
   "cell_type": "code",
   "execution_count": 109,
   "id": "886fdd82",
   "metadata": {},
   "outputs": [],
   "source": [
    "# Use the forest's predict method on the test data\n",
    "y_pred_RF = rf.predict(X_test_sample)"
   ]
  },
  {
   "cell_type": "code",
   "execution_count": 110,
   "id": "66df426e",
   "metadata": {},
   "outputs": [
    {
     "data": {
      "text/plain": [
       "0.9982344828216638"
      ]
     },
     "execution_count": 110,
     "metadata": {},
     "output_type": "execute_result"
    }
   ],
   "source": [
    "rf_r2 = rf.score(X_test_sample, y_test_sample)\n",
    "rf_r2"
   ]
  },
  {
   "cell_type": "code",
   "execution_count": 111,
   "id": "1adffa7c",
   "metadata": {},
   "outputs": [
    {
     "name": "stdout",
     "output_type": "stream",
     "text": [
      "Mean Squared Error = 0.002092231740449457\n",
      "Root Mean Squared Error = 0.045740919759548526\n"
     ]
    }
   ],
   "source": [
    "# Mean Square Error(MSE)/Root Mean Square Error(RMSE)\n",
    "MSE_RF = mean_squared_error(y_test_sample, y_pred_RF)\n",
    "RMSE_RF = math.sqrt(mean_squared_error(y_test_sample, y_pred_RF))\n",
    "print('Mean Squared Error =', MSE_RF)\n",
    "print('Root Mean Squared Error =', RMSE_RF)"
   ]
  },
  {
   "cell_type": "markdown",
   "id": "905cdeb1",
   "metadata": {},
   "source": [
    "### Neural Networks\n",
    "\n",
    "Biografia: https://www.pluralsight.com/guides/machine-learning-neural-networks-scikit-learn"
   ]
  },
  {
   "cell_type": "markdown",
   "id": "ad610a52",
   "metadata": {},
   "source": [
    "Neural Networks require all data to be Normalized (values between 0 and 1)."
   ]
  },
  {
   "cell_type": "markdown",
   "id": "d7c2b078",
   "metadata": {},
   "source": [
    "The previous dataframe had standarize variables with variables our of the 0 to 1 range, therefore we take a copy of the dataframe cleaned from NaN from the Exercise S09T01 and prepare it for the Neural Network model by creating Dummy variables and normalizing all the data."
   ]
  },
  {
   "cell_type": "code",
   "execution_count": 112,
   "id": "373fd726",
   "metadata": {},
   "outputs": [
    {
     "data": {
      "text/plain": [
       "(20000, 27)"
      ]
     },
     "execution_count": 112,
     "metadata": {},
     "output_type": "execute_result"
    }
   ],
   "source": [
    "df_sample2 = pd.read_csv ('DelayFlightsNOPreparedDataSample.csv')\n",
    "df_sample2.shape"
   ]
  },
  {
   "cell_type": "code",
   "execution_count": 113,
   "id": "fdd27ee8",
   "metadata": {},
   "outputs": [
    {
     "data": {
      "text/plain": [
       "(20000, 599)"
      ]
     },
     "execution_count": 113,
     "metadata": {},
     "output_type": "execute_result"
    }
   ],
   "source": [
    "df2 = pd.get_dummies(df_sample2)\n",
    "df2.shape"
   ]
  },
  {
   "cell_type": "code",
   "execution_count": 114,
   "id": "eb12017f",
   "metadata": {},
   "outputs": [
    {
     "data": {
      "text/html": [
       "<div>\n",
       "<style scoped>\n",
       "    .dataframe tbody tr th:only-of-type {\n",
       "        vertical-align: middle;\n",
       "    }\n",
       "\n",
       "    .dataframe tbody tr th {\n",
       "        vertical-align: top;\n",
       "    }\n",
       "\n",
       "    .dataframe thead th {\n",
       "        text-align: right;\n",
       "    }\n",
       "</style>\n",
       "<table border=\"1\" class=\"dataframe\">\n",
       "  <thead>\n",
       "    <tr style=\"text-align: right;\">\n",
       "      <th></th>\n",
       "      <th>count</th>\n",
       "      <th>mean</th>\n",
       "      <th>std</th>\n",
       "      <th>min</th>\n",
       "      <th>25%</th>\n",
       "      <th>50%</th>\n",
       "      <th>75%</th>\n",
       "      <th>max</th>\n",
       "    </tr>\n",
       "  </thead>\n",
       "  <tbody>\n",
       "    <tr>\n",
       "      <th>Year</th>\n",
       "      <td>20000.0</td>\n",
       "      <td>1.000000</td>\n",
       "      <td>0.000000</td>\n",
       "      <td>1.000000</td>\n",
       "      <td>1.000000</td>\n",
       "      <td>1.000000</td>\n",
       "      <td>1.000000</td>\n",
       "      <td>1.0</td>\n",
       "    </tr>\n",
       "    <tr>\n",
       "      <th>Month</th>\n",
       "      <td>20000.0</td>\n",
       "      <td>0.509412</td>\n",
       "      <td>0.290598</td>\n",
       "      <td>0.083333</td>\n",
       "      <td>0.250000</td>\n",
       "      <td>0.500000</td>\n",
       "      <td>0.750000</td>\n",
       "      <td>1.0</td>\n",
       "    </tr>\n",
       "    <tr>\n",
       "      <th>DayofMonth</th>\n",
       "      <td>20000.0</td>\n",
       "      <td>0.509347</td>\n",
       "      <td>0.283190</td>\n",
       "      <td>0.032258</td>\n",
       "      <td>0.258065</td>\n",
       "      <td>0.516129</td>\n",
       "      <td>0.741935</td>\n",
       "      <td>1.0</td>\n",
       "    </tr>\n",
       "    <tr>\n",
       "      <th>DayOfWeek</th>\n",
       "      <td>20000.0</td>\n",
       "      <td>0.568507</td>\n",
       "      <td>0.284771</td>\n",
       "      <td>0.142857</td>\n",
       "      <td>0.285714</td>\n",
       "      <td>0.571429</td>\n",
       "      <td>0.857143</td>\n",
       "      <td>1.0</td>\n",
       "    </tr>\n",
       "    <tr>\n",
       "      <th>DepTime</th>\n",
       "      <td>20000.0</td>\n",
       "      <td>0.632455</td>\n",
       "      <td>0.188653</td>\n",
       "      <td>0.000417</td>\n",
       "      <td>0.500000</td>\n",
       "      <td>0.643750</td>\n",
       "      <td>0.792083</td>\n",
       "      <td>1.0</td>\n",
       "    </tr>\n",
       "    <tr>\n",
       "      <th>...</th>\n",
       "      <td>...</td>\n",
       "      <td>...</td>\n",
       "      <td>...</td>\n",
       "      <td>...</td>\n",
       "      <td>...</td>\n",
       "      <td>...</td>\n",
       "      <td>...</td>\n",
       "      <td>...</td>\n",
       "    </tr>\n",
       "    <tr>\n",
       "      <th>Dest_YAK</th>\n",
       "      <td>20000.0</td>\n",
       "      <td>0.000250</td>\n",
       "      <td>0.015810</td>\n",
       "      <td>0.000000</td>\n",
       "      <td>0.000000</td>\n",
       "      <td>0.000000</td>\n",
       "      <td>0.000000</td>\n",
       "      <td>1.0</td>\n",
       "    </tr>\n",
       "    <tr>\n",
       "      <th>Dest_YUM</th>\n",
       "      <td>20000.0</td>\n",
       "      <td>0.000300</td>\n",
       "      <td>0.017318</td>\n",
       "      <td>0.000000</td>\n",
       "      <td>0.000000</td>\n",
       "      <td>0.000000</td>\n",
       "      <td>0.000000</td>\n",
       "      <td>1.0</td>\n",
       "    </tr>\n",
       "    <tr>\n",
       "      <th>CancellationCode_A</th>\n",
       "      <td>20000.0</td>\n",
       "      <td>0.000100</td>\n",
       "      <td>0.010000</td>\n",
       "      <td>0.000000</td>\n",
       "      <td>0.000000</td>\n",
       "      <td>0.000000</td>\n",
       "      <td>0.000000</td>\n",
       "      <td>1.0</td>\n",
       "    </tr>\n",
       "    <tr>\n",
       "      <th>CancellationCode_B</th>\n",
       "      <td>20000.0</td>\n",
       "      <td>0.000100</td>\n",
       "      <td>0.010000</td>\n",
       "      <td>0.000000</td>\n",
       "      <td>0.000000</td>\n",
       "      <td>0.000000</td>\n",
       "      <td>0.000000</td>\n",
       "      <td>1.0</td>\n",
       "    </tr>\n",
       "    <tr>\n",
       "      <th>CancellationCode_N</th>\n",
       "      <td>20000.0</td>\n",
       "      <td>0.999800</td>\n",
       "      <td>0.014141</td>\n",
       "      <td>0.000000</td>\n",
       "      <td>1.000000</td>\n",
       "      <td>1.000000</td>\n",
       "      <td>1.000000</td>\n",
       "      <td>1.0</td>\n",
       "    </tr>\n",
       "  </tbody>\n",
       "</table>\n",
       "<p>599 rows × 8 columns</p>\n",
       "</div>"
      ],
      "text/plain": [
       "                      count      mean       std       min       25%       50%  \\\n",
       "Year                20000.0  1.000000  0.000000  1.000000  1.000000  1.000000   \n",
       "Month               20000.0  0.509412  0.290598  0.083333  0.250000  0.500000   \n",
       "DayofMonth          20000.0  0.509347  0.283190  0.032258  0.258065  0.516129   \n",
       "DayOfWeek           20000.0  0.568507  0.284771  0.142857  0.285714  0.571429   \n",
       "DepTime             20000.0  0.632455  0.188653  0.000417  0.500000  0.643750   \n",
       "...                     ...       ...       ...       ...       ...       ...   \n",
       "Dest_YAK            20000.0  0.000250  0.015810  0.000000  0.000000  0.000000   \n",
       "Dest_YUM            20000.0  0.000300  0.017318  0.000000  0.000000  0.000000   \n",
       "CancellationCode_A  20000.0  0.000100  0.010000  0.000000  0.000000  0.000000   \n",
       "CancellationCode_B  20000.0  0.000100  0.010000  0.000000  0.000000  0.000000   \n",
       "CancellationCode_N  20000.0  0.999800  0.014141  0.000000  1.000000  1.000000   \n",
       "\n",
       "                         75%  max  \n",
       "Year                1.000000  1.0  \n",
       "Month               0.750000  1.0  \n",
       "DayofMonth          0.741935  1.0  \n",
       "DayOfWeek           0.857143  1.0  \n",
       "DepTime             0.792083  1.0  \n",
       "...                      ...  ...  \n",
       "Dest_YAK            0.000000  1.0  \n",
       "Dest_YUM            0.000000  1.0  \n",
       "CancellationCode_A  0.000000  1.0  \n",
       "CancellationCode_B  0.000000  1.0  \n",
       "CancellationCode_N  1.000000  1.0  \n",
       "\n",
       "[599 rows x 8 columns]"
      ]
     },
     "execution_count": 114,
     "metadata": {},
     "output_type": "execute_result"
    }
   ],
   "source": [
    "target_column = ['ArrDelay'] \n",
    "predictors = list(set(list(df2.columns))-set(target_column))\n",
    "df2[predictors] = df2[predictors]/df2[predictors].max()\n",
    "df2.describe().transpose()"
   ]
  },
  {
   "cell_type": "code",
   "execution_count": 115,
   "id": "685b280e",
   "metadata": {},
   "outputs": [
    {
     "name": "stdout",
     "output_type": "stream",
     "text": [
      "(15000, 598) (5000, 598) (15000, 1) (5000, 1)\n"
     ]
    }
   ],
   "source": [
    "#The target variable is ArrDelay \n",
    "X = df2[predictors].values\n",
    "y = df2[target_column].values\n",
    "\n",
    "X_train_NN, X_test_NN, y_train_NN, y_test_NN = train_test_split(X, y, test_size=0.25, random_state=1)\n",
    "print(X_train_NN.shape, X_test_NN.shape, y_train_NN.shape, y_test_NN.shape)"
   ]
  },
  {
   "cell_type": "code",
   "execution_count": 116,
   "id": "48c65fff",
   "metadata": {},
   "outputs": [
    {
     "name": "stderr",
     "output_type": "stream",
     "text": [
      "C:\\ProgramData\\Anaconda3\\lib\\site-packages\\sklearn\\utils\\validation.py:63: DataConversionWarning: A column-vector y was passed when a 1d array was expected. Please change the shape of y to (n_samples, ), for example using ravel().\n",
      "  return f(*args, **kwargs)\n"
     ]
    }
   ],
   "source": [
    "from sklearn.neural_network import MLPRegressor\n",
    "\n",
    "mlp = MLPRegressor(hidden_layer_sizes=(8,8,8), activation='relu', solver='adam', max_iter=500, random_state=42)\n",
    "\n",
    "mlp.fit(X_train_NN, y_train_NN)\n",
    "\n",
    "y_pred_NN = mlp.predict(X_test_NN)"
   ]
  },
  {
   "cell_type": "code",
   "execution_count": 117,
   "id": "306c0ab6",
   "metadata": {},
   "outputs": [
    {
     "data": {
      "text/plain": [
       "0.9984614696856783"
      ]
     },
     "execution_count": 117,
     "metadata": {},
     "output_type": "execute_result"
    }
   ],
   "source": [
    "# R Square\n",
    "mlp_r2 = mlp.score(X_test_NN, y_test_NN)\n",
    "mlp_r2"
   ]
  },
  {
   "cell_type": "code",
   "execution_count": 118,
   "id": "ee8d3f9e",
   "metadata": {},
   "outputs": [
    {
     "name": "stdout",
     "output_type": "stream",
     "text": [
      "Mean Squared Error = 69.93865071642688\n",
      "Root Mean Squared Error = 8.36293314073638\n"
     ]
    }
   ],
   "source": [
    "# Mean Square Error(MSE)/Root Mean Square Error(RMSE)\n",
    "MSE_NN = mean_squared_error(y_test_NN, y_pred_NN)\n",
    "RMSE_NN = math.sqrt(mean_squared_error(y_test_NN, y_pred_NN))\n",
    "print('Mean Squared Error =', MSE_NN)\n",
    "print('Root Mean Squared Error =', RMSE_NN)"
   ]
  },
  {
   "cell_type": "markdown",
   "id": "64c154f9",
   "metadata": {},
   "source": [
    "## Exercici 2\n",
    "Compara’ls en base al MSE i al R2 ."
   ]
  },
  {
   "cell_type": "code",
   "execution_count": 119,
   "id": "8b804aba",
   "metadata": {},
   "outputs": [
    {
     "data": {
      "text/html": [
       "<div>\n",
       "<style scoped>\n",
       "    .dataframe tbody tr th:only-of-type {\n",
       "        vertical-align: middle;\n",
       "    }\n",
       "\n",
       "    .dataframe tbody tr th {\n",
       "        vertical-align: top;\n",
       "    }\n",
       "\n",
       "    .dataframe thead th {\n",
       "        text-align: right;\n",
       "    }\n",
       "</style>\n",
       "<table border=\"1\" class=\"dataframe\">\n",
       "  <thead>\n",
       "    <tr style=\"text-align: right;\">\n",
       "      <th></th>\n",
       "      <th>R-Square</th>\n",
       "      <th>MSE</th>\n",
       "    </tr>\n",
       "  </thead>\n",
       "  <tbody>\n",
       "    <tr>\n",
       "      <th>Linear Regression (LR)</th>\n",
       "      <td>0.998989</td>\n",
       "      <td>7.931836e+07</td>\n",
       "    </tr>\n",
       "    <tr>\n",
       "      <th>Random Forest (RF)</th>\n",
       "      <td>0.998234</td>\n",
       "      <td>2.092232e-03</td>\n",
       "    </tr>\n",
       "    <tr>\n",
       "      <th>Neural Network (NN)</th>\n",
       "      <td>0.998461</td>\n",
       "      <td>6.993865e+01</td>\n",
       "    </tr>\n",
       "  </tbody>\n",
       "</table>\n",
       "</div>"
      ],
      "text/plain": [
       "                        R-Square           MSE\n",
       "Linear Regression (LR)  0.998989  7.931836e+07\n",
       "Random Forest (RF)      0.998234  2.092232e-03\n",
       "Neural Network (NN)     0.998461  6.993865e+01"
      ]
     },
     "execution_count": 119,
     "metadata": {},
     "output_type": "execute_result"
    }
   ],
   "source": [
    "mse_r2 = [{'R-Square': r_sq, 'MSE': MSE_LR}, {'R-Square': rf_r2, 'MSE': MSE_RF}, {'R-Square': mlp_r2, 'MSE': MSE_NN}]\n",
    "df_mse_r2 = pd.DataFrame(mse_r2, index=['Linear Regression (LR)','Random Forest (RF)', 'Neural Network (NN)'])\n",
    "df_mse_r2"
   ]
  },
  {
   "cell_type": "markdown",
   "id": "12e5b27a",
   "metadata": {},
   "source": [
    "All 3 models have a R-Square above 0.99, which is a great correlation.\n",
    "\n",
    "From the 3 models the Random Forest is the one with the smallest MSE which means that it has a better acuracy and would be the best model for this dataframe."
   ]
  },
  {
   "cell_type": "markdown",
   "id": "a358b5fa",
   "metadata": {},
   "source": [
    "## Exercici 3\n",
    "Entrena’ls utilitzant els diferents paràmetres que admeten."
   ]
  },
  {
   "cell_type": "markdown",
   "id": "9d3329ed",
   "metadata": {},
   "source": [
    "### Random Forest \n",
    "\n",
    "We can increase the max-depth of the tree. We will notice that it will decrease the acuracy and increase the error of the model"
   ]
  },
  {
   "cell_type": "code",
   "execution_count": 120,
   "id": "c8753840",
   "metadata": {},
   "outputs": [],
   "source": [
    "# Instantiate model with 100 decision trees\n",
    "rf = RandomForestRegressor(n_estimators = 100, max_depth=5, random_state = 42)\n",
    "\n",
    "# Train the model on training data\n",
    "rf.fit(X_train_sample, y_train_sample);"
   ]
  },
  {
   "cell_type": "code",
   "execution_count": 121,
   "id": "9cf7b294",
   "metadata": {},
   "outputs": [],
   "source": [
    "# Use the forest's predict method on the test data\n",
    "y_pred_RF = rf.predict(X_test_sample)"
   ]
  },
  {
   "cell_type": "code",
   "execution_count": 122,
   "id": "ff391bda",
   "metadata": {},
   "outputs": [
    {
     "data": {
      "text/plain": [
       "0.9533856605284281"
      ]
     },
     "execution_count": 122,
     "metadata": {},
     "output_type": "execute_result"
    }
   ],
   "source": [
    "rf_r2 = rf.score(X_test_sample, y_test_sample)\n",
    "rf_r2"
   ]
  },
  {
   "cell_type": "code",
   "execution_count": 123,
   "id": "ab62a580",
   "metadata": {},
   "outputs": [
    {
     "name": "stdout",
     "output_type": "stream",
     "text": [
      "Mean Squared Error = 0.055240471063792436\n",
      "Root Mean Squared Error = 0.23503291485192546\n"
     ]
    }
   ],
   "source": [
    "# Mean Square Error(MSE)/Root Mean Square Error(RMSE)\n",
    "MSE_RF = mean_squared_error(y_test_sample, y_pred_RF)\n",
    "RMSE_RF = math.sqrt(mean_squared_error(y_test_sample, y_pred_RF))\n",
    "print('Mean Squared Error =', MSE_RF)\n",
    "print('Root Mean Squared Error =', RMSE_RF)"
   ]
  },
  {
   "cell_type": "code",
   "execution_count": 124,
   "id": "0d0ff68c",
   "metadata": {},
   "outputs": [
    {
     "data": {
      "text/html": [
       "<div>\n",
       "<style scoped>\n",
       "    .dataframe tbody tr th:only-of-type {\n",
       "        vertical-align: middle;\n",
       "    }\n",
       "\n",
       "    .dataframe tbody tr th {\n",
       "        vertical-align: top;\n",
       "    }\n",
       "\n",
       "    .dataframe thead th {\n",
       "        text-align: right;\n",
       "    }\n",
       "</style>\n",
       "<table border=\"1\" class=\"dataframe\">\n",
       "  <thead>\n",
       "    <tr style=\"text-align: right;\">\n",
       "      <th></th>\n",
       "      <th>R-Square</th>\n",
       "      <th>MSE</th>\n",
       "    </tr>\n",
       "  </thead>\n",
       "  <tbody>\n",
       "    <tr>\n",
       "      <th>Linear Regression (LR)</th>\n",
       "      <td>0.998989</td>\n",
       "      <td>7.931836e+07</td>\n",
       "    </tr>\n",
       "    <tr>\n",
       "      <th>Random Forest (RF)</th>\n",
       "      <td>0.998234</td>\n",
       "      <td>2.092232e-03</td>\n",
       "    </tr>\n",
       "    <tr>\n",
       "      <th>Neural Network (NN)</th>\n",
       "      <td>0.998461</td>\n",
       "      <td>6.993865e+01</td>\n",
       "    </tr>\n",
       "    <tr>\n",
       "      <th>RF - Max Depth 5</th>\n",
       "      <td>0.953386</td>\n",
       "      <td>5.524047e-02</td>\n",
       "    </tr>\n",
       "  </tbody>\n",
       "</table>\n",
       "</div>"
      ],
      "text/plain": [
       "                        R-Square           MSE\n",
       "Linear Regression (LR)  0.998989  7.931836e+07\n",
       "Random Forest (RF)      0.998234  2.092232e-03\n",
       "Neural Network (NN)     0.998461  6.993865e+01\n",
       "RF - Max Depth 5        0.953386  5.524047e-02"
      ]
     },
     "execution_count": 124,
     "metadata": {},
     "output_type": "execute_result"
    }
   ],
   "source": [
    "score = pd.DataFrame([{'R-Square': rf_r2, 'MSE': MSE_RF}], index=['RF - Max Depth 5'])\n",
    "df_mse_r2 = df_mse_r2.append(score)\n",
    "df_mse_r2"
   ]
  },
  {
   "cell_type": "markdown",
   "id": "58f91fc3",
   "metadata": {},
   "source": [
    "We can also increase the number of estimators which will increase the simulation time but it doesn´t improve the results"
   ]
  },
  {
   "cell_type": "code",
   "execution_count": 125,
   "id": "3c34d42d",
   "metadata": {},
   "outputs": [],
   "source": [
    "# Instantiate model with 100 decision trees\n",
    "rf = RandomForestRegressor(n_estimators = 250, random_state = 42)\n",
    "\n",
    "# Train the model on training data\n",
    "rf.fit(X_train_sample, y_train_sample);"
   ]
  },
  {
   "cell_type": "code",
   "execution_count": 126,
   "id": "c11e764d",
   "metadata": {},
   "outputs": [],
   "source": [
    "# Use the forest's predict method on the test data\n",
    "y_pred_RF = rf.predict(X_test_sample)"
   ]
  },
  {
   "cell_type": "code",
   "execution_count": 127,
   "id": "2695ab8a",
   "metadata": {},
   "outputs": [
    {
     "data": {
      "text/plain": [
       "0.9982648755302602"
      ]
     },
     "execution_count": 127,
     "metadata": {},
     "output_type": "execute_result"
    }
   ],
   "source": [
    "rf_r2 = rf.score(X_test_sample, y_test_sample)\n",
    "rf_r2"
   ]
  },
  {
   "cell_type": "code",
   "execution_count": 128,
   "id": "f98d97f8",
   "metadata": {},
   "outputs": [
    {
     "name": "stdout",
     "output_type": "stream",
     "text": [
      "Mean Squared Error = 0.002056214764583173\n",
      "Root Mean Squared Error = 0.045345504348095776\n"
     ]
    }
   ],
   "source": [
    "# Mean Square Error(MSE)/Root Mean Square Error(RMSE)\n",
    "MSE_RF = mean_squared_error(y_test_sample, y_pred_RF)\n",
    "RMSE_RF = math.sqrt(mean_squared_error(y_test_sample, y_pred_RF))\n",
    "print('Mean Squared Error =', MSE_RF)\n",
    "print('Root Mean Squared Error =', RMSE_RF)"
   ]
  },
  {
   "cell_type": "code",
   "execution_count": 129,
   "id": "7351ad6c",
   "metadata": {},
   "outputs": [
    {
     "data": {
      "text/html": [
       "<div>\n",
       "<style scoped>\n",
       "    .dataframe tbody tr th:only-of-type {\n",
       "        vertical-align: middle;\n",
       "    }\n",
       "\n",
       "    .dataframe tbody tr th {\n",
       "        vertical-align: top;\n",
       "    }\n",
       "\n",
       "    .dataframe thead th {\n",
       "        text-align: right;\n",
       "    }\n",
       "</style>\n",
       "<table border=\"1\" class=\"dataframe\">\n",
       "  <thead>\n",
       "    <tr style=\"text-align: right;\">\n",
       "      <th></th>\n",
       "      <th>R-Square</th>\n",
       "      <th>MSE</th>\n",
       "    </tr>\n",
       "  </thead>\n",
       "  <tbody>\n",
       "    <tr>\n",
       "      <th>Linear Regression (LR)</th>\n",
       "      <td>0.998989</td>\n",
       "      <td>7.931836e+07</td>\n",
       "    </tr>\n",
       "    <tr>\n",
       "      <th>Random Forest (RF)</th>\n",
       "      <td>0.998234</td>\n",
       "      <td>2.092232e-03</td>\n",
       "    </tr>\n",
       "    <tr>\n",
       "      <th>Neural Network (NN)</th>\n",
       "      <td>0.998461</td>\n",
       "      <td>6.993865e+01</td>\n",
       "    </tr>\n",
       "    <tr>\n",
       "      <th>RF - Max Depth 5</th>\n",
       "      <td>0.953386</td>\n",
       "      <td>5.524047e-02</td>\n",
       "    </tr>\n",
       "    <tr>\n",
       "      <th>RF - 250 estimators</th>\n",
       "      <td>0.998265</td>\n",
       "      <td>2.056215e-03</td>\n",
       "    </tr>\n",
       "  </tbody>\n",
       "</table>\n",
       "</div>"
      ],
      "text/plain": [
       "                        R-Square           MSE\n",
       "Linear Regression (LR)  0.998989  7.931836e+07\n",
       "Random Forest (RF)      0.998234  2.092232e-03\n",
       "Neural Network (NN)     0.998461  6.993865e+01\n",
       "RF - Max Depth 5        0.953386  5.524047e-02\n",
       "RF - 250 estimators     0.998265  2.056215e-03"
      ]
     },
     "execution_count": 129,
     "metadata": {},
     "output_type": "execute_result"
    }
   ],
   "source": [
    "score = pd.DataFrame([{'R-Square': rf_r2, 'MSE': MSE_RF}], index=['RF - 250 estimators'])\n",
    "df_mse_r2 = df_mse_r2.append(score)\n",
    "df_mse_r2"
   ]
  },
  {
   "cell_type": "markdown",
   "id": "063b0fbf",
   "metadata": {},
   "source": [
    "### Neural Networks\n",
    "\n",
    "Let's modify the solver to lbfgs. The sklearn biography state about the solver parameter:\n",
    "\n",
    "**solver{‘lbfgs’, ‘sgd’, ‘adam’}, default=’adam’**\n",
    "The solver for weight optimization.\n",
    "\n",
    " - ‘lbfgs’ is an optimizer in the family of quasi-Newton methods.\n",
    "\n",
    " - ‘sgd’ refers to stochastic gradient descent.\n",
    "\n",
    " - ‘adam’ refers to a stochastic gradient-based optimizer proposed by Kingma, Diederik, and Jimmy Ba\n",
    "\n",
    "**Note:** The default solver ‘adam’ works pretty well on relatively large datasets (with thousands of training samples or more) in terms of both training time and validation score. For small datasets, however, ‘lbfgs’ can converge faster and perform better.\n",
    "\n",
    "In our case, lbfgs will have very similar results as adam."
   ]
  },
  {
   "cell_type": "code",
   "execution_count": 130,
   "id": "586e84a1",
   "metadata": {},
   "outputs": [
    {
     "name": "stderr",
     "output_type": "stream",
     "text": [
      "C:\\ProgramData\\Anaconda3\\lib\\site-packages\\sklearn\\utils\\validation.py:63: DataConversionWarning: A column-vector y was passed when a 1d array was expected. Please change the shape of y to (n_samples, ), for example using ravel().\n",
      "  return f(*args, **kwargs)\n",
      "C:\\ProgramData\\Anaconda3\\lib\\site-packages\\sklearn\\neural_network\\_multilayer_perceptron.py:500: ConvergenceWarning: lbfgs failed to converge (status=1):\n",
      "STOP: TOTAL NO. of ITERATIONS REACHED LIMIT.\n",
      "\n",
      "Increase the number of iterations (max_iter) or scale the data as shown in:\n",
      "    https://scikit-learn.org/stable/modules/preprocessing.html\n",
      "  self.n_iter_ = _check_optimize_result(\"lbfgs\", opt_res, self.max_iter)\n"
     ]
    }
   ],
   "source": [
    "mlp = MLPRegressor(hidden_layer_sizes=(8,8,8), activation='relu', solver='lbfgs', max_iter=500, random_state=42)\n",
    "\n",
    "mlp.fit(X_train_NN, y_train_NN)\n",
    "\n",
    "y_pred_NN = mlp.predict(X_test_NN)"
   ]
  },
  {
   "cell_type": "code",
   "execution_count": 131,
   "id": "626c1f37",
   "metadata": {},
   "outputs": [
    {
     "data": {
      "text/plain": [
       "0.9989451325986837"
      ]
     },
     "execution_count": 131,
     "metadata": {},
     "output_type": "execute_result"
    }
   ],
   "source": [
    "# R Square\n",
    "mlp_r2 = mlp.score(X_test_NN, y_test_NN)\n",
    "mlp_r2"
   ]
  },
  {
   "cell_type": "code",
   "execution_count": 132,
   "id": "de45a601",
   "metadata": {},
   "outputs": [
    {
     "name": "stdout",
     "output_type": "stream",
     "text": [
      "Mean Squared Error = 47.95225810375541\n",
      "Root Mean Squared Error = 6.924756898531197\n"
     ]
    }
   ],
   "source": [
    "# Mean Square Error(MSE)/Root Mean Square Error(RMSE)\n",
    "MSE_NN = mean_squared_error(y_test_NN, y_pred_NN)\n",
    "RMSE_NN = math.sqrt(mean_squared_error(y_test_NN, y_pred_NN))\n",
    "print('Mean Squared Error =', MSE_NN)\n",
    "print('Root Mean Squared Error =', RMSE_NN)"
   ]
  },
  {
   "cell_type": "code",
   "execution_count": 133,
   "id": "cc77d68c",
   "metadata": {},
   "outputs": [
    {
     "data": {
      "text/html": [
       "<div>\n",
       "<style scoped>\n",
       "    .dataframe tbody tr th:only-of-type {\n",
       "        vertical-align: middle;\n",
       "    }\n",
       "\n",
       "    .dataframe tbody tr th {\n",
       "        vertical-align: top;\n",
       "    }\n",
       "\n",
       "    .dataframe thead th {\n",
       "        text-align: right;\n",
       "    }\n",
       "</style>\n",
       "<table border=\"1\" class=\"dataframe\">\n",
       "  <thead>\n",
       "    <tr style=\"text-align: right;\">\n",
       "      <th></th>\n",
       "      <th>R-Square</th>\n",
       "      <th>MSE</th>\n",
       "    </tr>\n",
       "  </thead>\n",
       "  <tbody>\n",
       "    <tr>\n",
       "      <th>Linear Regression (LR)</th>\n",
       "      <td>0.998989</td>\n",
       "      <td>7.931836e+07</td>\n",
       "    </tr>\n",
       "    <tr>\n",
       "      <th>Random Forest (RF)</th>\n",
       "      <td>0.998234</td>\n",
       "      <td>2.092232e-03</td>\n",
       "    </tr>\n",
       "    <tr>\n",
       "      <th>Neural Network (NN)</th>\n",
       "      <td>0.998461</td>\n",
       "      <td>6.993865e+01</td>\n",
       "    </tr>\n",
       "    <tr>\n",
       "      <th>RF - Max Depth 5</th>\n",
       "      <td>0.953386</td>\n",
       "      <td>5.524047e-02</td>\n",
       "    </tr>\n",
       "    <tr>\n",
       "      <th>RF - 250 estimators</th>\n",
       "      <td>0.998265</td>\n",
       "      <td>2.056215e-03</td>\n",
       "    </tr>\n",
       "    <tr>\n",
       "      <th>NN - lbfgs solver</th>\n",
       "      <td>0.998945</td>\n",
       "      <td>4.795226e+01</td>\n",
       "    </tr>\n",
       "  </tbody>\n",
       "</table>\n",
       "</div>"
      ],
      "text/plain": [
       "                        R-Square           MSE\n",
       "Linear Regression (LR)  0.998989  7.931836e+07\n",
       "Random Forest (RF)      0.998234  2.092232e-03\n",
       "Neural Network (NN)     0.998461  6.993865e+01\n",
       "RF - Max Depth 5        0.953386  5.524047e-02\n",
       "RF - 250 estimators     0.998265  2.056215e-03\n",
       "NN - lbfgs solver       0.998945  4.795226e+01"
      ]
     },
     "execution_count": 133,
     "metadata": {},
     "output_type": "execute_result"
    }
   ],
   "source": [
    "score = pd.DataFrame([{'R-Square': mlp_r2, 'MSE': MSE_NN}], index=['NN - lbfgs solver'])\n",
    "df_mse_r2 = df_mse_r2.append(score)\n",
    "df_mse_r2"
   ]
  },
  {
   "cell_type": "markdown",
   "id": "a29a4c4d",
   "metadata": {},
   "source": [
    "Now let´s try different learning_rates. Sklearn biography state about this parameter:\n",
    "\n",
    "**learning_rate{‘constant’, ‘invscaling’, ‘adaptive’}, default=’constant’**\n",
    "Learning rate schedule for weight updates.\n",
    "**Only used when solver=’sgd’.**\n",
    "\n",
    " - ‘constant’ is a constant learning rate given by ‘learning_rate_init’.\n",
    "\n",
    " - ‘invscaling’ gradually decreases the learning rate learning_rate_ at each time step ‘t’ using an inverse scaling exponent of ‘power_t’. effective_learning_rate = learning_rate_init / pow(t, power_t)\n",
    "\n",
    " - ‘adaptive’ keeps the learning rate constant to ‘learning_rate_init’ as long as training loss keeps decreasing. Each time two consecutive epochs fail to decrease training loss by at least tol, or fail to increase validation score by at least tol if ‘early_stopping’ is on, the current learning rate is divided by 5.\n",
    "\n",
    "The results do not improve either by using sgd solver with the adaptative learning rate"
   ]
  },
  {
   "cell_type": "code",
   "execution_count": 134,
   "id": "35107344",
   "metadata": {
    "scrolled": true
   },
   "outputs": [
    {
     "name": "stderr",
     "output_type": "stream",
     "text": [
      "C:\\ProgramData\\Anaconda3\\lib\\site-packages\\sklearn\\utils\\validation.py:63: DataConversionWarning: A column-vector y was passed when a 1d array was expected. Please change the shape of y to (n_samples, ), for example using ravel().\n",
      "  return f(*args, **kwargs)\n"
     ]
    }
   ],
   "source": [
    "mlp = MLPRegressor(hidden_layer_sizes=(8,8,8), activation='relu', solver='sgd', learning_rate='adaptive', max_iter=500, random_state=42)\n",
    "\n",
    "mlp.fit(X_train_NN, y_train_NN)\n",
    "\n",
    "y_pred_NN = mlp.predict(X_test_NN)"
   ]
  },
  {
   "cell_type": "code",
   "execution_count": 135,
   "id": "b79d8ab4",
   "metadata": {},
   "outputs": [
    {
     "data": {
      "text/plain": [
       "-3.1638189456284493e-05"
      ]
     },
     "execution_count": 135,
     "metadata": {},
     "output_type": "execute_result"
    }
   ],
   "source": [
    "# R Square\n",
    "mlp_r2 = mlp.score(X_test_NN, y_test_NN)\n",
    "mlp_r2"
   ]
  },
  {
   "cell_type": "code",
   "execution_count": 136,
   "id": "148a3755",
   "metadata": {
    "scrolled": true
   },
   "outputs": [
    {
     "name": "stdout",
     "output_type": "stream",
     "text": [
      "Mean Squared Error = 45459.52900482318\n",
      "Root Mean Squared Error = 213.21240349666147\n"
     ]
    }
   ],
   "source": [
    "# Mean Square Error(MSE)/Root Mean Square Error(RMSE)\n",
    "MSE_NN = mean_squared_error(y_test_NN, y_pred_NN)\n",
    "RMSE_NN = math.sqrt(mean_squared_error(y_test_NN, y_pred_NN))\n",
    "print('Mean Squared Error =', MSE_NN)\n",
    "print('Root Mean Squared Error =', RMSE_NN)"
   ]
  },
  {
   "cell_type": "code",
   "execution_count": 137,
   "id": "d54fec6c",
   "metadata": {},
   "outputs": [
    {
     "data": {
      "text/html": [
       "<div>\n",
       "<style scoped>\n",
       "    .dataframe tbody tr th:only-of-type {\n",
       "        vertical-align: middle;\n",
       "    }\n",
       "\n",
       "    .dataframe tbody tr th {\n",
       "        vertical-align: top;\n",
       "    }\n",
       "\n",
       "    .dataframe thead th {\n",
       "        text-align: right;\n",
       "    }\n",
       "</style>\n",
       "<table border=\"1\" class=\"dataframe\">\n",
       "  <thead>\n",
       "    <tr style=\"text-align: right;\">\n",
       "      <th></th>\n",
       "      <th>R-Square</th>\n",
       "      <th>MSE</th>\n",
       "    </tr>\n",
       "  </thead>\n",
       "  <tbody>\n",
       "    <tr>\n",
       "      <th>Linear Regression (LR)</th>\n",
       "      <td>0.998989</td>\n",
       "      <td>7.931836e+07</td>\n",
       "    </tr>\n",
       "    <tr>\n",
       "      <th>Random Forest (RF)</th>\n",
       "      <td>0.998234</td>\n",
       "      <td>2.092232e-03</td>\n",
       "    </tr>\n",
       "    <tr>\n",
       "      <th>Neural Network (NN)</th>\n",
       "      <td>0.998461</td>\n",
       "      <td>6.993865e+01</td>\n",
       "    </tr>\n",
       "    <tr>\n",
       "      <th>RF - Max Depth 5</th>\n",
       "      <td>0.953386</td>\n",
       "      <td>5.524047e-02</td>\n",
       "    </tr>\n",
       "    <tr>\n",
       "      <th>RF - 250 estimators</th>\n",
       "      <td>0.998265</td>\n",
       "      <td>2.056215e-03</td>\n",
       "    </tr>\n",
       "    <tr>\n",
       "      <th>NN - lbfgs solver</th>\n",
       "      <td>0.998945</td>\n",
       "      <td>4.795226e+01</td>\n",
       "    </tr>\n",
       "    <tr>\n",
       "      <th>NN - sgd solver</th>\n",
       "      <td>-0.000032</td>\n",
       "      <td>4.545953e+04</td>\n",
       "    </tr>\n",
       "  </tbody>\n",
       "</table>\n",
       "</div>"
      ],
      "text/plain": [
       "                        R-Square           MSE\n",
       "Linear Regression (LR)  0.998989  7.931836e+07\n",
       "Random Forest (RF)      0.998234  2.092232e-03\n",
       "Neural Network (NN)     0.998461  6.993865e+01\n",
       "RF - Max Depth 5        0.953386  5.524047e-02\n",
       "RF - 250 estimators     0.998265  2.056215e-03\n",
       "NN - lbfgs solver       0.998945  4.795226e+01\n",
       "NN - sgd solver        -0.000032  4.545953e+04"
      ]
     },
     "execution_count": 137,
     "metadata": {},
     "output_type": "execute_result"
    }
   ],
   "source": [
    "score = pd.DataFrame([{'R-Square': mlp_r2, 'MSE': MSE_NN}], index=['NN - sgd solver'])\n",
    "df_mse_r2 = df_mse_r2.append(score)\n",
    "df_mse_r2"
   ]
  },
  {
   "cell_type": "markdown",
   "id": "511ad256",
   "metadata": {},
   "source": [
    "Finally we increase the hidden layers and note that the results are again very similar to the first simulation."
   ]
  },
  {
   "cell_type": "code",
   "execution_count": 138,
   "id": "d15b0b3e",
   "metadata": {
    "scrolled": true
   },
   "outputs": [
    {
     "name": "stderr",
     "output_type": "stream",
     "text": [
      "C:\\ProgramData\\Anaconda3\\lib\\site-packages\\sklearn\\utils\\validation.py:63: DataConversionWarning: A column-vector y was passed when a 1d array was expected. Please change the shape of y to (n_samples, ), for example using ravel().\n",
      "  return f(*args, **kwargs)\n"
     ]
    }
   ],
   "source": [
    "mlp = MLPRegressor(hidden_layer_sizes=(10,10,10), activation='relu', solver='adam', max_iter=500, random_state=42)\n",
    "\n",
    "mlp.fit(X_train_NN, y_train_NN)\n",
    "\n",
    "y_pred_NN = mlp.predict(X_test_NN)"
   ]
  },
  {
   "cell_type": "code",
   "execution_count": 139,
   "id": "ebedc0a7",
   "metadata": {},
   "outputs": [
    {
     "data": {
      "text/plain": [
       "0.9984454762708215"
      ]
     },
     "execution_count": 139,
     "metadata": {},
     "output_type": "execute_result"
    }
   ],
   "source": [
    "# R Square\n",
    "mlp_r2 = mlp.score(X_test_NN, y_test_NN)\n",
    "mlp_r2"
   ]
  },
  {
   "cell_type": "code",
   "execution_count": 140,
   "id": "f1a4c5b4",
   "metadata": {},
   "outputs": [
    {
     "name": "stdout",
     "output_type": "stream",
     "text": [
      "Mean Squared Error = 70.6656808210805\n",
      "Root Mean Squared Error = 8.406288171427416\n"
     ]
    }
   ],
   "source": [
    "# Mean Square Error(MSE)/Root Mean Square Error(RMSE)\n",
    "MSE_NN = mean_squared_error(y_test_NN, y_pred_NN)\n",
    "RMSE_NN = math.sqrt(mean_squared_error(y_test_NN, y_pred_NN))\n",
    "print('Mean Squared Error =', MSE_NN)\n",
    "print('Root Mean Squared Error =', RMSE_NN)"
   ]
  },
  {
   "cell_type": "code",
   "execution_count": 141,
   "id": "46baf44a",
   "metadata": {},
   "outputs": [
    {
     "data": {
      "text/html": [
       "<div>\n",
       "<style scoped>\n",
       "    .dataframe tbody tr th:only-of-type {\n",
       "        vertical-align: middle;\n",
       "    }\n",
       "\n",
       "    .dataframe tbody tr th {\n",
       "        vertical-align: top;\n",
       "    }\n",
       "\n",
       "    .dataframe thead th {\n",
       "        text-align: right;\n",
       "    }\n",
       "</style>\n",
       "<table border=\"1\" class=\"dataframe\">\n",
       "  <thead>\n",
       "    <tr style=\"text-align: right;\">\n",
       "      <th></th>\n",
       "      <th>R-Square</th>\n",
       "      <th>MSE</th>\n",
       "    </tr>\n",
       "  </thead>\n",
       "  <tbody>\n",
       "    <tr>\n",
       "      <th>Linear Regression (LR)</th>\n",
       "      <td>0.998989</td>\n",
       "      <td>7.931836e+07</td>\n",
       "    </tr>\n",
       "    <tr>\n",
       "      <th>Random Forest (RF)</th>\n",
       "      <td>0.998234</td>\n",
       "      <td>2.092232e-03</td>\n",
       "    </tr>\n",
       "    <tr>\n",
       "      <th>Neural Network (NN)</th>\n",
       "      <td>0.998461</td>\n",
       "      <td>6.993865e+01</td>\n",
       "    </tr>\n",
       "    <tr>\n",
       "      <th>RF - Max Depth 5</th>\n",
       "      <td>0.953386</td>\n",
       "      <td>5.524047e-02</td>\n",
       "    </tr>\n",
       "    <tr>\n",
       "      <th>RF - 250 estimators</th>\n",
       "      <td>0.998265</td>\n",
       "      <td>2.056215e-03</td>\n",
       "    </tr>\n",
       "    <tr>\n",
       "      <th>NN - lbfgs solver</th>\n",
       "      <td>0.998945</td>\n",
       "      <td>4.795226e+01</td>\n",
       "    </tr>\n",
       "    <tr>\n",
       "      <th>NN - sgd solver</th>\n",
       "      <td>-0.000032</td>\n",
       "      <td>4.545953e+04</td>\n",
       "    </tr>\n",
       "    <tr>\n",
       "      <th>NN - more hidden layers</th>\n",
       "      <td>0.998445</td>\n",
       "      <td>7.066568e+01</td>\n",
       "    </tr>\n",
       "  </tbody>\n",
       "</table>\n",
       "</div>"
      ],
      "text/plain": [
       "                         R-Square           MSE\n",
       "Linear Regression (LR)   0.998989  7.931836e+07\n",
       "Random Forest (RF)       0.998234  2.092232e-03\n",
       "Neural Network (NN)      0.998461  6.993865e+01\n",
       "RF - Max Depth 5         0.953386  5.524047e-02\n",
       "RF - 250 estimators      0.998265  2.056215e-03\n",
       "NN - lbfgs solver        0.998945  4.795226e+01\n",
       "NN - sgd solver         -0.000032  4.545953e+04\n",
       "NN - more hidden layers  0.998445  7.066568e+01"
      ]
     },
     "execution_count": 141,
     "metadata": {},
     "output_type": "execute_result"
    }
   ],
   "source": [
    "score = pd.DataFrame([{'R-Square': mlp_r2, 'MSE': MSE_NN}], index=['NN - more hidden layers'])\n",
    "df_mse_r2 = df_mse_r2.append(score)\n",
    "df_mse_r2"
   ]
  },
  {
   "cell_type": "markdown",
   "id": "d8674d9e",
   "metadata": {},
   "source": [
    "## Exercici 4\n",
    "Compara el seu rendiment utilitzant l’aproximació traint/test o utilitzant totes les dades (validació interna)"
   ]
  },
  {
   "cell_type": "markdown",
   "id": "9e4dcc61",
   "metadata": {},
   "source": [
    "The train-test-split was used on the previous exercises, so we will use the complete sample without doing a train-test split"
   ]
  },
  {
   "cell_type": "code",
   "execution_count": 142,
   "id": "88f383f2",
   "metadata": {},
   "outputs": [],
   "source": [
    "X = df_sample.drop(['ArrDelay'], axis=1).values\n",
    "y = df_sample.ArrDelay.values\n",
    "\n",
    "model = LinearRegression().fit(X, y)\n"
   ]
  },
  {
   "cell_type": "code",
   "execution_count": 143,
   "id": "c6679bc3",
   "metadata": {},
   "outputs": [
    {
     "name": "stdout",
     "output_type": "stream",
     "text": [
      "intercept: 98906133.88583083\n"
     ]
    }
   ],
   "source": [
    "print('intercept:', model.intercept_)"
   ]
  },
  {
   "cell_type": "code",
   "execution_count": 144,
   "id": "fbbc4af1",
   "metadata": {},
   "outputs": [
    {
     "name": "stdout",
     "output_type": "stream",
     "text": [
      "slope: [-2.58264882e+04 -6.30592535e-05 -4.35995995e-05 -1.45164067e-04\n",
      "  1.35578586e-03 -1.31030628e-03  1.45119794e-03 -1.49927402e-03\n",
      " -4.43312528e+06 -2.18462944e-03  4.43312528e+06  3.37145163e-03\n",
      " -3.88632260e-02  2.33468906e+07  6.35572181e+07  8.54770829e+07\n",
      "  1.84082788e-03 -6.04372326e-05 -3.22833657e-05 -6.03438530e-05\n",
      " -2.28824909e-04 -5.37014566e-05 -1.92151804e+04 -1.92151764e+04\n",
      " -1.92151675e+04 -1.92151732e+04 -1.92151744e+04 -1.92151775e+04\n",
      " -1.92151777e+04 -1.92151749e+04 -1.92151739e+04 -1.92151778e+04\n",
      " -1.92151835e+04 -1.92151771e+04 -1.92151780e+04 -1.92151794e+04\n",
      " -1.92151780e+04 -1.92151792e+04 -1.92151755e+04 -1.92151742e+04\n",
      " -1.92151773e+04 -1.92151768e+04  2.92958845e+04  2.92958744e+04\n",
      "  2.92958808e+04  2.92958985e+04  2.92958571e+04  2.92958775e+04\n",
      "  2.92958899e+04  1.26716450e+05 -2.22224186e+04  2.92959320e+04\n",
      "  2.92958700e+04  2.92959010e+04  2.92959185e+04  2.92958819e+04\n",
      "  1.47306973e+05  2.92958771e+04  2.92958874e+04  2.92958746e+04\n",
      "  2.92958805e+04  2.92958934e+04  2.92958827e+04  2.92958432e+04\n",
      "  2.92958791e+04  2.92958869e+04  2.92958871e+04  2.92958616e+04\n",
      "  2.92958791e+04  2.92958959e+04  2.92958835e+04  2.92958816e+04\n",
      "  2.92958972e+04  2.92958870e+04 -3.25761349e+04  1.23268569e+05\n",
      "  2.92958919e+04  2.92958804e+04  2.92958934e+04  2.92958817e+04\n",
      " -9.25781543e+04  2.92958919e+04  2.92958943e+04 -4.54863265e+02\n",
      "  2.92958940e+04  4.30005058e+04  2.92958753e+04  2.92958811e+04\n",
      "  2.92958826e+04  2.92958850e+04  2.92958789e+04  2.92958853e+04\n",
      "  2.92958747e+04  2.92958781e+04 -6.43480762e+04  2.92958353e+04\n",
      "  2.92958894e+04  2.92958812e+04  2.92958725e+04  2.92958873e+04\n",
      "  2.92958631e+04  2.92958823e+04  2.92958849e+04  2.92958815e+04\n",
      "  2.92958565e+04  2.92958813e+04  2.92958781e+04  2.92958779e+04\n",
      " -4.10970993e+04 -7.67088622e+04  2.92958902e+04  2.92958748e+04\n",
      "  2.92958728e+04  2.92958637e+04  2.92958924e+04  2.92958772e+04\n",
      "  2.92958353e+04  2.92958873e+04  2.92958920e+04  2.92958886e+04\n",
      "  2.92959056e+04  2.92958789e+04  2.92958792e+04  2.92958837e+04\n",
      "  2.92959100e+04 -2.26044065e+04  2.92958750e+04  2.92958620e+04\n",
      "  2.92958826e+04  2.92958812e+04  2.92958832e+04  2.92959191e+04\n",
      "  2.92958400e+04  2.92958877e+04  2.92958970e+04  2.92958643e+04\n",
      "  2.92958995e+04  2.92958804e+04  2.92958844e+04  2.92958522e+04\n",
      "  2.92958756e+04  2.92958896e+04  2.92958732e+04  2.92958585e+04\n",
      "  2.92958635e+04  2.92958993e+04  2.92958868e+04  2.92959028e+04\n",
      "  2.92958872e+04  2.92958776e+04  2.92958891e+04  2.92958923e+04\n",
      "  2.92958531e+04  2.92958867e+04  2.92958876e+04  2.92958813e+04\n",
      "  2.92958906e+04 -2.89202638e+03  2.92958804e+04  2.92958614e+04\n",
      "  2.92958849e+04  2.92958846e+04  2.92958726e+04  2.92958771e+04\n",
      " -4.94930789e+04  2.92958643e+04  2.92958722e+04  2.92958781e+04\n",
      "  2.92958939e+04 -2.96028262e+04  2.92958778e+04  2.92958793e+04\n",
      "  2.92958794e+04  2.92958730e+04  2.92958803e+04  2.92958745e+04\n",
      "  8.44654361e+03  2.92958778e+04  2.92958795e+04  2.92958908e+04\n",
      "  2.92958811e+04  2.92958848e+04  2.92958809e+04 -1.44124110e+04\n",
      "  2.92958687e+04  2.92958753e+04 -2.60677626e+04  2.92958738e+04\n",
      "  2.92958763e+04  2.92958953e+04  2.92958837e+04  2.92958783e+04\n",
      "  2.92958755e+04  2.92958873e+04  2.92958867e+04  2.92958682e+04\n",
      "  2.92958547e+04  2.92958804e+04  2.92958715e+04  2.92958805e+04\n",
      "  2.92958686e+04  2.92959046e+04  2.92958885e+04  2.92958498e+04\n",
      "  2.92958799e+04  2.92958788e+04  2.92958931e+04  2.92958737e+04\n",
      "  2.92958758e+04  2.92958752e+04  2.92958664e+04  2.92958888e+04\n",
      "  2.14243410e+03  2.92958850e+04 -6.91344310e+03  2.92958832e+04\n",
      "  2.92958839e+04  2.92958824e+04  2.92958804e+04  2.92958815e+04\n",
      "  2.92958973e+04  2.92958811e+04  2.92959060e+04  2.92958752e+04\n",
      "  2.92958847e+04  2.92958821e+04  2.92958976e+04  2.92958918e+04\n",
      "  2.92958790e+04  2.92958805e+04  2.92958598e+04  2.92958726e+04\n",
      "  2.92958840e+04  2.92958815e+04  2.92958844e+04  2.92958855e+04\n",
      "  2.92958785e+04 -2.08654044e+04  2.92958810e+04  2.92958891e+04\n",
      "  2.92958851e+04  2.92958852e+04  2.92958874e+04  2.92958671e+04\n",
      "  2.92958838e+04  2.92958980e+04  2.92958847e+04  2.92958837e+04\n",
      "  2.92958815e+04  2.92958792e+04  2.19783982e+04  2.92958816e+04\n",
      "  2.92958828e+04  2.92958917e+04  2.92958940e+04  2.92958867e+04\n",
      "  2.92959117e+04  2.92958863e+04  2.92958779e+04  2.92958787e+04\n",
      "  2.92958837e+04  2.92958767e+04  2.92958770e+04  2.92958859e+04\n",
      " -1.50234335e+04  1.41508127e+04  2.92958795e+04 -1.90299190e+04\n",
      "  2.92958827e+04  2.92958697e+04  2.92958702e+04  2.92959024e+04\n",
      "  2.92958772e+04  2.92958616e+04 -7.47522786e+03  2.92958774e+04\n",
      "  2.92958678e+04  2.92958815e+04  2.92958995e+04  2.92958796e+04\n",
      "  2.92958801e+04  2.92958231e+04 -3.41611924e+04  2.92958772e+04\n",
      "  2.92959094e+04  2.92958828e+04  2.92958727e+04  2.92958826e+04\n",
      "  2.92958686e+04  2.92958912e+04  2.92958766e+04  2.92958837e+04\n",
      "  2.92958809e+04  2.92958822e+04  2.92958972e+04  2.92959112e+04\n",
      "  2.92958721e+04  2.92958678e+04 -3.12518590e+03  2.92958872e+04\n",
      "  2.92958817e+04  2.92958804e+04  2.92958854e+04  2.92958627e+04\n",
      "  2.92958989e+04  2.92958421e+04  2.92958775e+04  2.92958750e+04\n",
      "  2.92958843e+04  2.92958788e+04  2.92958898e+04  2.92958825e+04\n",
      "  2.92958888e+04  2.92958826e+04  2.92958882e+04  2.92958940e+04\n",
      "  2.92958833e+04  2.92958794e+04  2.92958883e+04  2.92958423e+04\n",
      "  2.92958239e+04 -1.45404096e+04  2.92959026e+04  2.92958855e+04\n",
      "  2.92959395e+04  2.92958748e+04  2.92958494e+04  2.92958844e+04\n",
      "  2.92958822e+04  2.92958902e+04  1.49344564e+03  2.92958869e+04\n",
      "  2.92958697e+04  2.92958451e+04  2.92958915e+04  2.92958991e+04\n",
      "  2.92958805e+04  2.92958758e+04  2.92958874e+04 -1.39594742e+04\n",
      "  1.15783980e+04  2.92958778e+04  2.92959728e+04 -2.32039895e+04\n",
      "  2.92958820e+04  6.10382750e+03  6.10382117e+03  6.10383319e+03\n",
      "  6.10384646e+03 -3.13741677e+04  6.10385110e+03  6.10382319e+03\n",
      "  5.98921121e+03  4.86948286e+03  6.10391812e+03  6.10383205e+03\n",
      "  6.10382792e+03 -7.91431929e+02  6.10382523e+03  6.10384481e+03\n",
      "  6.10382748e+03  6.10383353e+03  6.10383882e+03  6.10382983e+03\n",
      "  6.10382047e+03  6.10383083e+03  6.10381960e+03  6.10382879e+03\n",
      "  6.10384616e+03  6.10382790e+03  6.10380005e+03  6.10383161e+03\n",
      "  6.10382157e+03  6.10383945e+03  6.10382738e+03  6.10385288e+03\n",
      "  6.10382498e+03 -1.60175896e-03  6.10385700e+03  6.10383191e+03\n",
      "  6.10383302e+03  6.10383547e+03  6.10383316e+03  6.10385117e+03\n",
      "  6.10380826e+03  6.10383481e+03  6.10383197e+03  6.10387424e+03\n",
      "  3.57348108e-05  6.10382320e+03  6.10382320e+03  6.10382929e+03\n",
      "  6.10383202e+03  6.10383282e+03  6.10383066e+03  6.10382699e+03\n",
      "  6.10382291e+03  2.42143869e-08  6.10381512e+03  6.10383823e+03\n",
      "  6.10382477e+03  6.10381796e+03  6.10383111e+03  6.10380806e+03\n",
      "  6.10383964e+03  6.10384906e+03  6.10383530e+03  6.10386301e+03\n",
      "  6.10383426e+03  6.10383684e+03  6.10383356e+03  0.00000000e+00\n",
      "  6.10383115e+03  6.10383605e+03  6.10384806e+03  6.10384150e+03\n",
      "  6.10382810e+03  6.10383386e+03  6.10383352e+03  6.10385688e+03\n",
      "  6.10382821e+03  6.10383445e+03  6.10382572e+03  6.10382331e+03\n",
      "  6.10382953e+03  6.10383225e+03  6.10383332e+03  6.10382790e+03\n",
      "  1.94486205e-09  6.10385045e+03  6.10382296e+03  6.10382859e+03\n",
      "  6.10383910e+03  6.10382245e+03  1.49882184e-09  6.10383168e+03\n",
      "  6.10382524e+03  6.10380858e+03  6.10384664e+03  6.10381089e+03\n",
      "  6.10382832e+03  6.10382980e+03  6.10381237e+03  6.10383486e+03\n",
      "  6.10383729e+03  6.10383989e+03  6.10382037e+03  6.10382308e+03\n",
      "  6.10392448e+03  6.10383321e+03  6.10373921e+03  6.10384147e+03\n",
      "  6.10382362e+03  6.10382307e+03  6.10383501e+03  6.10384829e+03\n",
      "  6.10382818e+03  6.10384581e+03  6.10387769e+03  6.10383538e+03\n",
      "  6.10380459e+03  6.10383094e+03  6.10384774e+03  6.10383242e+03\n",
      "  6.10382819e+03  6.10383417e+03  6.10383770e+03  6.10383394e+03\n",
      "  6.10381917e+03  6.10386641e+03  6.10382539e+03  6.10383252e+03\n",
      "  6.10383102e+03  6.10384517e+03  6.10383873e+03  6.10383140e+03\n",
      "  6.10383418e+03  6.10382481e+03  6.10382135e+03  6.10382029e+03\n",
      "  6.10383476e+03  6.10383219e+03  6.10382339e+03  6.10381591e+03\n",
      "  6.10385465e+03  6.10382930e+03  2.07299455e-16  6.10384083e+03\n",
      "  6.10383746e+03  4.16333634e-17  6.10382947e+03  6.10380050e+03\n",
      "  6.10381522e+03  6.10384493e+03  6.10383307e+03  6.10383230e+03\n",
      "  6.10384597e+03  6.10384082e+03  6.10384492e+03  6.10384867e+03\n",
      "  6.10383106e+03  6.10384924e+03  6.10383435e+03  6.10384064e+03\n",
      "  6.10380666e+03  6.10384077e+03  6.10384306e+03  6.10383275e+03\n",
      "  6.10382886e+03  6.10383838e+03  6.10383242e+03  1.76941795e-16\n",
      "  6.10383148e+03  6.10380980e+03  6.10383207e+03 -2.94902991e-16\n",
      "  6.24500451e-17  1.59594560e-16  6.10382547e+03  6.10380567e+03\n",
      "  6.10383120e+03  6.10383371e+03  6.10383047e+03  6.10383123e+03\n",
      "  6.10383294e+03  6.10382152e+03  6.10383282e+03  6.10383636e+03\n",
      "  6.10382637e+03  6.10383420e+03  6.10383073e+03  6.10382849e+03\n",
      "  6.10382969e+03  6.10385141e+03  6.10383365e+03  6.10383360e+03\n",
      "  6.10381828e+03  6.10383153e+03  6.10382863e+03  6.10380868e+03\n",
      "  6.10385960e+03  6.10382933e+03  6.10383675e+03  6.10383475e+03\n",
      "  6.10383438e+03  6.10382800e+03  6.10381497e+03  6.10383171e+03\n",
      "  6.10384070e+03  6.10383275e+03  6.10383922e+03  6.10382914e+03\n",
      "  6.10383734e+03  4.68375339e-17  6.10383400e+03  6.10383289e+03\n",
      "  6.10383152e+03  6.10382460e+03  1.34213366e+04  6.10379068e+03\n",
      "  6.10383317e+03  6.10383686e+03  6.10382618e+03  6.10382974e+03\n",
      "  6.10383349e+03  6.10383254e+03  6.10384297e+03  6.10384675e+03\n",
      " -1.69033895e-17  6.10383278e+03  1.38777878e-17  6.10383960e+03\n",
      "  6.10384012e+03  6.10381905e+03  6.10379691e+03  6.10381123e+03\n",
      "  6.10383073e+03  6.10382513e+03  6.10382971e+03  6.10385342e+03\n",
      "  6.10383005e+03  6.10384398e+03  6.10383052e+03  6.10387215e+03\n",
      "  2.42861287e-17  6.10383769e+03  6.10380230e+03  6.10383287e+03\n",
      "  6.10384137e+03  6.10383780e+03  6.10386311e+03  6.10383404e+03\n",
      "  6.10382939e+03  6.10383323e+03  6.10383396e+03  6.10382422e+03\n",
      "  6.10381688e+03  6.10383292e+03  6.10383122e+03  6.10380482e+03\n",
      "  6.10382722e+03  6.10383096e+03  6.10383080e+03  6.10383287e+03\n",
      "  6.10382237e+03  6.10382933e+03  6.10382605e+03  6.10383370e+03\n",
      "  6.10383373e+03  6.10385642e+03  6.10383249e+03  6.10383361e+03\n",
      "  6.10384415e+03  6.10383247e+03  6.10382130e+03  6.10383799e+03\n",
      "  6.10383787e+03  6.10382546e+03  6.10383704e+03  6.10382662e+03\n",
      "  6.10383629e+03  0.00000000e+00  6.10383957e+03  0.00000000e+00\n",
      "  6.10381572e+03  6.10382444e+03  6.10379152e+03  6.10382195e+03\n",
      "  6.10380477e+03  6.10383316e+03  6.10383435e+03  6.10383006e+03\n",
      "  0.00000000e+00  6.10383429e+03  6.10383767e+03  6.10386467e+03\n",
      "  6.10383934e+03  6.10383241e+03  6.10383228e+03  6.10382872e+03\n",
      "  6.10382553e+03  6.10385207e+03  0.00000000e+00  6.10382562e+03\n",
      "  6.10385629e+03  0.00000000e+00  6.10384983e+03 -2.15038260e+07\n",
      " -2.15038259e+07 -2.15038260e+07  6.39732569e+07]\n"
     ]
    }
   ],
   "source": [
    "print('slope:', model.coef_)"
   ]
  },
  {
   "cell_type": "code",
   "execution_count": 145,
   "id": "3879bd56",
   "metadata": {},
   "outputs": [
    {
     "data": {
      "text/plain": [
       "0.9990237284124105"
      ]
     },
     "execution_count": 145,
     "metadata": {},
     "output_type": "execute_result"
    }
   ],
   "source": [
    "# R Square/Adjusted R Square\n",
    "r_sq = model.score(X, y)\n",
    "r_sq"
   ]
  },
  {
   "cell_type": "markdown",
   "id": "e8501981",
   "metadata": {},
   "source": [
    "The R2 is very high so we use Adjusted R2 Square to check if it´s due to overfitting\n",
    "\n",
    "Biography: https://towardsdatascience.com/what-are-the-best-metrics-to-evaluate-your-regression-model-418ca481755b\n",
    "\n",
    "\"R Square is a good measure to determine how well the model fits the dependent variables. However, it does not take into consideration of overfitting problem. If your regression model has many independent variables, because the model is too complicated, it may fit very well to the training data but performs badly for testing data. That is why Adjusted R Square is introduced because it will penalize additional independent variables added to the model and adjust the metric to prevent overfitting issues.\""
   ]
  },
  {
   "cell_type": "code",
   "execution_count": 146,
   "id": "18494a4a",
   "metadata": {},
   "outputs": [
    {
     "name": "stdout",
     "output_type": "stream",
     "text": [
      "0.9990237284152584 0.9989942587223383\n"
     ]
    }
   ],
   "source": [
    "#R_Square and Adjusted R Square\n",
    "X_addC = sm.add_constant(X)\n",
    "result = sm.OLS(y, X_addC).fit()\n",
    "print(result.rsquared, result.rsquared_adj)"
   ]
  },
  {
   "cell_type": "code",
   "execution_count": 147,
   "id": "7f7aff89",
   "metadata": {},
   "outputs": [],
   "source": [
    "# Linear Regression Predictions\n",
    "y_pred = model.predict(X)"
   ]
  },
  {
   "cell_type": "code",
   "execution_count": 148,
   "id": "eaf111fb",
   "metadata": {},
   "outputs": [
    {
     "name": "stdout",
     "output_type": "stream",
     "text": [
      "Mean Squared Error = 0.0010182586758625835\n",
      "Root Mean Squared Error = 0.03191016571349299\n"
     ]
    }
   ],
   "source": [
    "# Mean Square Error(MSE)/Root Mean Square Error(RMSE)\n",
    "from sklearn.metrics import mean_squared_error\n",
    "import math\n",
    "MSE_LR = mean_squared_error(y, y_pred)\n",
    "RMSE_LR = math.sqrt(mean_squared_error(y, y_pred))\n",
    "print('Mean Squared Error =', MSE_LR)\n",
    "print('Root Mean Squared Error =', RMSE_LR)"
   ]
  },
  {
   "cell_type": "code",
   "execution_count": 149,
   "id": "273b1555",
   "metadata": {},
   "outputs": [
    {
     "data": {
      "text/html": [
       "<div>\n",
       "<style scoped>\n",
       "    .dataframe tbody tr th:only-of-type {\n",
       "        vertical-align: middle;\n",
       "    }\n",
       "\n",
       "    .dataframe tbody tr th {\n",
       "        vertical-align: top;\n",
       "    }\n",
       "\n",
       "    .dataframe thead th {\n",
       "        text-align: right;\n",
       "    }\n",
       "</style>\n",
       "<table border=\"1\" class=\"dataframe\">\n",
       "  <thead>\n",
       "    <tr style=\"text-align: right;\">\n",
       "      <th></th>\n",
       "      <th>R-Square</th>\n",
       "      <th>MSE</th>\n",
       "    </tr>\n",
       "  </thead>\n",
       "  <tbody>\n",
       "    <tr>\n",
       "      <th>Linear Regression (LR)</th>\n",
       "      <td>0.998989</td>\n",
       "      <td>7.931836e+07</td>\n",
       "    </tr>\n",
       "    <tr>\n",
       "      <th>Random Forest (RF)</th>\n",
       "      <td>0.998234</td>\n",
       "      <td>2.092232e-03</td>\n",
       "    </tr>\n",
       "    <tr>\n",
       "      <th>Neural Network (NN)</th>\n",
       "      <td>0.998461</td>\n",
       "      <td>6.993865e+01</td>\n",
       "    </tr>\n",
       "    <tr>\n",
       "      <th>RF - Max Depth 5</th>\n",
       "      <td>0.953386</td>\n",
       "      <td>5.524047e-02</td>\n",
       "    </tr>\n",
       "    <tr>\n",
       "      <th>RF - 250 estimators</th>\n",
       "      <td>0.998265</td>\n",
       "      <td>2.056215e-03</td>\n",
       "    </tr>\n",
       "    <tr>\n",
       "      <th>NN - lbfgs solver</th>\n",
       "      <td>0.998945</td>\n",
       "      <td>4.795226e+01</td>\n",
       "    </tr>\n",
       "    <tr>\n",
       "      <th>NN - sgd solver</th>\n",
       "      <td>-0.000032</td>\n",
       "      <td>4.545953e+04</td>\n",
       "    </tr>\n",
       "    <tr>\n",
       "      <th>NN - more hidden layers</th>\n",
       "      <td>0.998445</td>\n",
       "      <td>7.066568e+01</td>\n",
       "    </tr>\n",
       "    <tr>\n",
       "      <th>LR - No train-test</th>\n",
       "      <td>0.999024</td>\n",
       "      <td>1.018259e-03</td>\n",
       "    </tr>\n",
       "  </tbody>\n",
       "</table>\n",
       "</div>"
      ],
      "text/plain": [
       "                         R-Square           MSE\n",
       "Linear Regression (LR)   0.998989  7.931836e+07\n",
       "Random Forest (RF)       0.998234  2.092232e-03\n",
       "Neural Network (NN)      0.998461  6.993865e+01\n",
       "RF - Max Depth 5         0.953386  5.524047e-02\n",
       "RF - 250 estimators      0.998265  2.056215e-03\n",
       "NN - lbfgs solver        0.998945  4.795226e+01\n",
       "NN - sgd solver         -0.000032  4.545953e+04\n",
       "NN - more hidden layers  0.998445  7.066568e+01\n",
       "LR - No train-test       0.999024  1.018259e-03"
      ]
     },
     "execution_count": 149,
     "metadata": {},
     "output_type": "execute_result"
    }
   ],
   "source": [
    "score = pd.DataFrame([{'R-Square': r_sq, 'MSE': MSE_LR}], index=['LR - No train-test'])\n",
    "df_mse_r2 = df_mse_r2.append(score)\n",
    "df_mse_r2"
   ]
  },
  {
   "cell_type": "markdown",
   "id": "02331fde",
   "metadata": {},
   "source": [
    "As expected the R-Square and the MSE get better results, but we don´t have any values for testing the model and we may be overfitting it, which can provide un-expected results with new values. Specially with the values not being as accurate as we would expect."
   ]
  },
  {
   "cell_type": "markdown",
   "id": "d6254f8e",
   "metadata": {},
   "source": [
    "## Exercici 5\n",
    "Realitza algun procés d’enginyeria de variables per millorar-ne la predicció"
   ]
  },
  {
   "cell_type": "markdown",
   "id": "74b64fdb",
   "metadata": {},
   "source": [
    "On the exercise S09T01 we already clean up the dataframe and standarize and normalize some variables. Here we will apply a PCA to reduce the large number of features before applying again the Linear Regresis. The baseline is reduce the MSE error, which mean we would have a better linear regression model."
   ]
  },
  {
   "cell_type": "code",
   "execution_count": 150,
   "id": "1bf114d2",
   "metadata": {},
   "outputs": [
    {
     "data": {
      "text/plain": [
       "(20000, 652)"
      ]
     },
     "execution_count": 150,
     "metadata": {},
     "output_type": "execute_result"
    }
   ],
   "source": [
    "df_PCA = df_sample.copy()\n",
    "df_PCA.shape"
   ]
  },
  {
   "cell_type": "code",
   "execution_count": 151,
   "id": "fddd1402",
   "metadata": {},
   "outputs": [
    {
     "name": "stdout",
     "output_type": "stream",
     "text": [
      "(15000, 651) (5000, 651) (15000,) (5000,)\n"
     ]
    }
   ],
   "source": [
    "# Train-test-split  for the PCA\n",
    "# The target variable is ArrDelay \n",
    "X = df_PCA.drop(['ArrDelay'], axis=1).values\n",
    "y = df_PCA.ArrDelay.values\n",
    "\n",
    "X_train_PCA, X_test_PCA, y_train_PCA, y_test_PCA = train_test_split(X, y, test_size=0.25, random_state=1)\n",
    "print(X_train_PCA.shape, X_test_PCA.shape, y_train_PCA.shape, y_test_PCA.shape)"
   ]
  },
  {
   "cell_type": "code",
   "execution_count": 152,
   "id": "a0938465",
   "metadata": {},
   "outputs": [],
   "source": [
    "from sklearn.decomposition import PCA"
   ]
  },
  {
   "cell_type": "code",
   "execution_count": 153,
   "id": "69fc8d9d",
   "metadata": {},
   "outputs": [
    {
     "name": "stdout",
     "output_type": "stream",
     "text": [
      "We have 651 features which have been reduced using PCA to 4 maintaining the 99% of the variance\n"
     ]
    }
   ],
   "source": [
    "pca = PCA(.99) #Normally 95% would already be a good value for the variance, but in this case we case push it to 99% of the variance\n",
    "pca.fit(X_train_PCA)\n",
    "X_train_PCA = pca.transform(X_train_PCA)\n",
    "X_test_PCA = pca.transform(X_test_PCA)\n",
    "print ('We have {} features which have been reduced using PCA to {} maintaining the 99% of the variance'.format(len(X[1,:]), pca.n_components_))"
   ]
  },
  {
   "cell_type": "markdown",
   "id": "3ec76027",
   "metadata": {},
   "source": [
    "## Multiple Linear Regression\n"
   ]
  },
  {
   "cell_type": "code",
   "execution_count": 154,
   "id": "894cc3c6",
   "metadata": {},
   "outputs": [],
   "source": [
    "model_pca = LinearRegression().fit(X_train_PCA, y_train_PCA)"
   ]
  },
  {
   "cell_type": "code",
   "execution_count": 155,
   "id": "3eac4ef7",
   "metadata": {},
   "outputs": [
    {
     "name": "stdout",
     "output_type": "stream",
     "text": [
      "intercept: -0.007677603746895104\n"
     ]
    }
   ],
   "source": [
    "print('intercept:', model_pca.intercept_)"
   ]
  },
  {
   "cell_type": "code",
   "execution_count": 156,
   "id": "fe43a47a",
   "metadata": {},
   "outputs": [
    {
     "name": "stdout",
     "output_type": "stream",
     "text": [
      "slope: [-0.00016775  0.00265949 -0.00200046  0.00085615]\n"
     ]
    }
   ],
   "source": [
    "print('slope:', model_pca.coef_)"
   ]
  },
  {
   "cell_type": "code",
   "execution_count": 157,
   "id": "ab6d18d3",
   "metadata": {
    "scrolled": true
   },
   "outputs": [
    {
     "name": "stdout",
     "output_type": "stream",
     "text": [
      "0.9986414192296028 0.9986410568205943\n"
     ]
    }
   ],
   "source": [
    "#R_Square and Adjusted R Square\n",
    "X_addC = sm.add_constant(X_train_PCA)\n",
    "result = sm.OLS(y_train_PCA, X_addC).fit()\n",
    "print(result.rsquared, result.rsquared_adj)"
   ]
  },
  {
   "cell_type": "code",
   "execution_count": 158,
   "id": "4766010e",
   "metadata": {},
   "outputs": [],
   "source": [
    "# Linear Regression Predictions\n",
    "y_pred = model_pca.predict(X_test_PCA)"
   ]
  },
  {
   "cell_type": "code",
   "execution_count": 159,
   "id": "c9ae0ffa",
   "metadata": {},
   "outputs": [
    {
     "name": "stdout",
     "output_type": "stream",
     "text": [
      "Mean Squared Error = 0.0013485301179322418\n",
      "Root Mean Squared Error = 0.03672233813269849\n"
     ]
    }
   ],
   "source": [
    "# Mean Square Error(MSE)/Root Mean Square Error(RMSE)\n",
    "MSE_LR_PCA = mean_squared_error(y_test_PCA, y_pred)\n",
    "RMSE_LR_PCA = math.sqrt(mean_squared_error(y_test_PCA, y_pred))\n",
    "print('Mean Squared Error =', MSE_LR_PCA)\n",
    "print('Root Mean Squared Error =', RMSE_LR_PCA)"
   ]
  },
  {
   "cell_type": "code",
   "execution_count": 160,
   "id": "03a7ef7d",
   "metadata": {},
   "outputs": [
    {
     "data": {
      "text/html": [
       "<div>\n",
       "<style scoped>\n",
       "    .dataframe tbody tr th:only-of-type {\n",
       "        vertical-align: middle;\n",
       "    }\n",
       "\n",
       "    .dataframe tbody tr th {\n",
       "        vertical-align: top;\n",
       "    }\n",
       "\n",
       "    .dataframe thead th {\n",
       "        text-align: right;\n",
       "    }\n",
       "</style>\n",
       "<table border=\"1\" class=\"dataframe\">\n",
       "  <thead>\n",
       "    <tr style=\"text-align: right;\">\n",
       "      <th></th>\n",
       "      <th>R-Square</th>\n",
       "      <th>MSE</th>\n",
       "    </tr>\n",
       "  </thead>\n",
       "  <tbody>\n",
       "    <tr>\n",
       "      <th>Linear Regression (LR)</th>\n",
       "      <td>0.998989</td>\n",
       "      <td>7.931836e+07</td>\n",
       "    </tr>\n",
       "    <tr>\n",
       "      <th>Random Forest (RF)</th>\n",
       "      <td>0.998234</td>\n",
       "      <td>2.092232e-03</td>\n",
       "    </tr>\n",
       "    <tr>\n",
       "      <th>Neural Network (NN)</th>\n",
       "      <td>0.998461</td>\n",
       "      <td>6.993865e+01</td>\n",
       "    </tr>\n",
       "    <tr>\n",
       "      <th>RF - Max Depth 5</th>\n",
       "      <td>0.953386</td>\n",
       "      <td>5.524047e-02</td>\n",
       "    </tr>\n",
       "    <tr>\n",
       "      <th>RF - 250 estimators</th>\n",
       "      <td>0.998265</td>\n",
       "      <td>2.056215e-03</td>\n",
       "    </tr>\n",
       "    <tr>\n",
       "      <th>NN - lbfgs solver</th>\n",
       "      <td>0.998945</td>\n",
       "      <td>4.795226e+01</td>\n",
       "    </tr>\n",
       "    <tr>\n",
       "      <th>NN - sgd solver</th>\n",
       "      <td>-0.000032</td>\n",
       "      <td>4.545953e+04</td>\n",
       "    </tr>\n",
       "    <tr>\n",
       "      <th>NN - more hidden layers</th>\n",
       "      <td>0.998445</td>\n",
       "      <td>7.066568e+01</td>\n",
       "    </tr>\n",
       "    <tr>\n",
       "      <th>LR - No train-test</th>\n",
       "      <td>0.999024</td>\n",
       "      <td>1.018259e-03</td>\n",
       "    </tr>\n",
       "    <tr>\n",
       "      <th>LR - PCA Feature</th>\n",
       "      <td>0.998641</td>\n",
       "      <td>1.348530e-03</td>\n",
       "    </tr>\n",
       "  </tbody>\n",
       "</table>\n",
       "</div>"
      ],
      "text/plain": [
       "                         R-Square           MSE\n",
       "Linear Regression (LR)   0.998989  7.931836e+07\n",
       "Random Forest (RF)       0.998234  2.092232e-03\n",
       "Neural Network (NN)      0.998461  6.993865e+01\n",
       "RF - Max Depth 5         0.953386  5.524047e-02\n",
       "RF - 250 estimators      0.998265  2.056215e-03\n",
       "NN - lbfgs solver        0.998945  4.795226e+01\n",
       "NN - sgd solver         -0.000032  4.545953e+04\n",
       "NN - more hidden layers  0.998445  7.066568e+01\n",
       "LR - No train-test       0.999024  1.018259e-03\n",
       "LR - PCA Feature         0.998641  1.348530e-03"
      ]
     },
     "execution_count": 160,
     "metadata": {},
     "output_type": "execute_result"
    }
   ],
   "source": [
    "score = pd.DataFrame([{'R-Square': result.rsquared, 'MSE': MSE_LR_PCA}], index=['LR - PCA Feature'])\n",
    "df_mse_r2 = df_mse_r2.append(score)\n",
    "df_mse_r2"
   ]
  },
  {
   "cell_type": "markdown",
   "id": "02702c37",
   "metadata": {},
   "source": [
    "Conclusion: When we compare the Linear Regression with the results from a Dataset cleaned and prepared but without doing a PCA the R-Squared is very similar but the MSE has improved considerably when the PCA is used."
   ]
  },
  {
   "cell_type": "markdown",
   "id": "493a9dfe",
   "metadata": {},
   "source": [
    "## Exercici 6\n",
    "No utilitzis la variable DepDelay a l’hora de fer prediccions"
   ]
  },
  {
   "cell_type": "code",
   "execution_count": 161,
   "id": "e48b7e17",
   "metadata": {},
   "outputs": [
    {
     "name": "stdout",
     "output_type": "stream",
     "text": [
      "(15000, 650) (5000, 650) (15000,) (5000,)\n"
     ]
    }
   ],
   "source": [
    "#The target variable is ArrDelay \n",
    "X = df_sample.drop(['ArrDelay', 'DepDelay'], axis=1).values\n",
    "y = df_sample.ArrDelay.values\n",
    "\n",
    "X_train_sample, X_test_sample, y_train_sample, y_test_sample = train_test_split(X, y, test_size=0.25, random_state=1)\n",
    "print(X_train_sample.shape, X_test_sample.shape, y_train_sample.shape, y_test_sample.shape)"
   ]
  },
  {
   "cell_type": "markdown",
   "id": "c11b483d",
   "metadata": {},
   "source": [
    "## Multiple Linear Regression\n"
   ]
  },
  {
   "cell_type": "code",
   "execution_count": 162,
   "id": "3fc4e703",
   "metadata": {},
   "outputs": [
    {
     "name": "stdout",
     "output_type": "stream",
     "text": [
      "intercept: -15821662.75944578\n",
      "slope: [ 7.76955099e+03 -5.27815112e-05 -2.80665815e-05 -1.55402994e-04\n",
      "  1.36068150e-03 -1.31252885e-03  1.44665734e-03 -1.49742543e-03\n",
      "  2.35292988e+04 -2.18761946e-03 -2.35292965e+04 -1.42912719e-02\n",
      " -1.23916171e+05 -3.37336876e+05 -4.91220158e+05  6.22484009e-03\n",
      " -9.12661562e-07  2.42586284e-05 -6.64888194e-06 -1.48594064e-04\n",
      "  2.88557203e-06 -7.32502019e+02 -7.32498521e+02 -7.32486808e+02\n",
      " -7.32498484e+02 -7.32497055e+02 -7.32500422e+02 -7.32500094e+02\n",
      " -7.32495621e+02 -7.32501204e+02 -7.32498947e+02 -7.32502491e+02\n",
      " -7.32499043e+02 -7.32498812e+02 -7.32501724e+02 -7.32500487e+02\n",
      " -7.32502594e+02 -7.32497027e+02 -7.32497284e+02 -7.32498610e+02\n",
      " -7.32498220e+02  8.16425696e+01  8.16325431e+01  8.16344418e+01\n",
      "  8.16510755e+01  8.16128055e+01  8.16408882e+01  8.16427242e+01\n",
      "  5.87078985e+02  3.44684189e+02  8.16868664e+01  8.16247629e+01\n",
      "  8.16546681e+01 -3.39266167e+02  8.16359743e+01 -8.59438219e+01\n",
      "  8.16261005e+01  8.16440572e+01  8.16283858e+01  8.16358941e+01\n",
      "  8.16432741e+01  8.16371275e+01  8.15903327e+01  8.16298911e+01\n",
      "  8.16411614e+01  8.16465444e+01  8.16411317e+01  8.16267406e+01\n",
      "  8.16655181e+01  8.16412447e+01  8.16373203e+01  8.16558418e+01\n",
      "  8.16364299e+01  7.24552328e+02 -1.42082569e+03  8.16489459e+01\n",
      "  8.16360134e+01  8.16495356e+01  8.16352141e+01  2.57338758e+03\n",
      "  8.16448756e+01  8.16498351e+01 -3.58527488e+02  8.16480245e+01\n",
      " -1.26579697e+02  8.16382649e+01  8.16383903e+01  8.16355000e+01\n",
      "  8.16410046e+01  8.16357726e+01  8.16384621e+01  8.16274815e+01\n",
      "  8.16335508e+01  7.19783021e+01  8.15903160e+01  8.16446604e+01\n",
      "  8.16359062e+01  7.43754557e+01  8.16501906e+01  8.16032929e+01\n",
      "  8.16334062e+01  8.16380223e+01  8.16367805e+01  8.16116159e+01\n",
      "  8.16368450e+01  8.16323480e+01  8.16318545e+01  1.68182349e+02\n",
      " -1.03620617e+02  8.16454355e+01  8.16257517e+01  8.16224894e+01\n",
      "  8.16162338e+01  8.16453556e+01  8.16321478e+01  8.15896959e+01\n",
      "  8.16435387e+01  8.16467802e+01  8.16470804e+01  8.16633292e+01\n",
      "  8.16331075e+01  8.16357331e+01  8.16383635e+01  8.16695111e+01\n",
      " -4.96462298e+02  8.16242387e+01  8.16267165e+01  8.16431817e+01\n",
      "  8.16373903e+01  8.16332756e+01  1.01214482e+02  8.15957362e+01\n",
      "  8.16403970e+01  8.16523683e+01  8.16191738e+01  8.16556964e+01\n",
      "  8.16333391e+01  8.16420572e+01  8.16055288e+01  8.16279424e+01\n",
      "  8.16435617e+01  8.16264264e+01  8.16223765e+01  8.16175386e+01\n",
      "  8.16527756e+01  8.16406515e+01  2.60595329e+02  8.16444355e+01\n",
      "  8.16414870e+01  8.16508683e+01  8.16614349e+01  8.16046677e+01\n",
      "  8.16388953e+01  8.16418526e+01  8.16357826e+01  8.16419670e+01\n",
      " -1.13699482e+02  8.16300857e+01  8.16125036e+01  8.16406168e+01\n",
      "  8.16388683e+01  8.16282843e+01  8.16245488e+01  3.02412621e+02\n",
      "  8.15985419e+01  8.16248591e+01  8.16518219e+01  8.16482526e+01\n",
      " -3.05802172e+02  8.16452788e+01  8.16310170e+01  8.16342161e+01\n",
      "  8.16227803e+01  8.16388079e+01  8.16317123e+01 -1.73551252e+02\n",
      "  8.16341160e+01  8.16348146e+01  8.16472171e+01  8.16256176e+01\n",
      "  8.16310342e+01  8.16358709e+01  6.16346176e+02  8.15968588e+01\n",
      "  8.16353831e+01  2.52435991e+02  8.16293218e+01  8.16301016e+01\n",
      "  8.16521579e+01  8.16328650e+01  8.16337885e+01  8.16327978e+01\n",
      "  8.16458576e+01  8.16379438e+01  8.16252069e+01  8.16205822e+01\n",
      "  8.16333272e+01  8.16254319e+01  8.16349905e+01  8.16233989e+01\n",
      "  8.16878244e+01  8.16490857e+01  8.16085070e+01  8.16364787e+01\n",
      "  8.16349785e+01  8.16493195e+01  8.16294811e+01  8.16502140e+01\n",
      "  8.16208323e+01  8.16122316e+01  8.16730262e+01 -1.73603272e+02\n",
      "  8.16379249e+01  4.51563341e+01  8.16366188e+01  8.16473707e+01\n",
      "  8.16371732e+01  2.58839911e+02  8.16364958e+01  8.16545268e+01\n",
      "  8.16358015e+01 -2.29075256e+02  8.16299322e+01  8.16417530e+01\n",
      "  8.16461926e+01  8.16476472e+01  8.16462786e+01  8.16321523e+01\n",
      "  8.16352273e+01  8.15966999e+01  8.16275000e+01  8.16448879e+01\n",
      "  8.16339594e+01  8.16386457e+01  8.16385784e+01  8.16310208e+01\n",
      " -2.73094013e+01  8.16336296e+01  8.16445851e+01  8.15964549e+01\n",
      "  8.16384740e+01  8.16442043e+01  8.16214862e+01  8.16389165e+01\n",
      "  8.16636622e+01  8.16373582e+01  8.16355334e+01  8.16349410e+01\n",
      "  8.16365200e+01  8.77674296e+01  8.16344996e+01  8.16385680e+01\n",
      "  8.16477704e+01 -2.58775450e+02  8.16412470e+01  8.16656159e+01\n",
      "  8.16455242e+01  8.16354863e+01  8.16391311e+01  8.16323077e+01\n",
      "  8.16325839e+01  8.16302692e+01  8.16353119e+01  1.06208426e+02\n",
      " -8.89400049e+01  8.16326832e+01 -1.54782316e+01  8.16378166e+01\n",
      "  8.16301024e+01  8.16120247e+01  8.16578548e+01  8.16422456e+01\n",
      "  8.16116662e+01  1.19331352e+02  8.16282064e+01  8.16198824e+01\n",
      "  8.16316495e+01  8.16588339e+01  8.16308374e+01  8.16359185e+01\n",
      "  1.48627855e+01  1.10879298e+02  8.16313827e+01  8.16610883e+01\n",
      "  8.16389960e+01  8.16059160e+01  8.16372743e+01  7.43594635e+01\n",
      "  8.16517577e+01  8.16350217e+01  8.16385645e+01  8.16334646e+01\n",
      "  8.16346589e+01  8.16540050e+01  8.16700737e+01  8.16329884e+01\n",
      "  8.16255667e+01 -6.70695146e+01  8.16459301e+01  8.16366476e+01\n",
      "  8.16333940e+01  8.16415781e+01  8.16326210e+01  8.16506090e+01\n",
      "  8.16064632e+01  8.16304093e+01  8.16250863e+01  8.16399793e+01\n",
      "  8.16337047e+01  8.16278884e+01  8.16374382e+01  8.16432092e+01\n",
      "  8.16378032e+01  8.16342859e+01  8.16390974e+01  8.16388080e+01\n",
      "  8.16357965e+01  8.16434801e+01  8.15980116e+01 -3.61892343e+01\n",
      "  1.89816343e+02  8.16583057e+01  8.16399931e+01  8.16943126e+01\n",
      "  8.16209389e+01  8.16269326e+01  8.16406203e+01  8.16412940e+01\n",
      "  8.16407889e+01  6.38892122e+00  8.16409683e+01  8.16283012e+01\n",
      "  8.15990626e+01  8.16462414e+01  8.16835973e+01  8.16337373e+01\n",
      "  8.16169557e+01  8.16399662e+01 -1.40024939e-01  1.87004588e-02\n",
      "  8.16318720e+01  8.17333777e+01 -1.69289031e-02  8.16283905e+01\n",
      "  2.07673797e+02  2.07655008e+02  2.07675512e+02  2.07688726e+02\n",
      "  1.01074580e-03  2.07694344e+02  2.07663744e+02 -2.83401538e-04\n",
      " -1.81889837e-05  2.07760019e+02  2.07673265e+02  2.07674126e+02\n",
      " -1.68811444e-05  2.07659035e+02  2.07687125e+02  2.07665558e+02\n",
      "  2.07677305e+02  2.07675493e+02  2.07671237e+02  2.07671880e+02\n",
      "  2.07670702e+02  2.07661070e+02  2.07664972e+02  2.07688052e+02\n",
      "  2.07674660e+02  2.07642209e+02  2.07673462e+02  2.07661232e+02\n",
      "  2.07685967e+02  2.07670563e+02  2.07693994e+02  2.07665072e+02\n",
      "  0.00000000e+00  2.07698512e+02  2.07672678e+02  2.07672578e+02\n",
      "  2.07674970e+02  2.07675449e+02  2.07690759e+02  2.07666949e+02\n",
      "  2.07671947e+02  2.07672090e+02  2.07713133e+02  9.09494702e-13\n",
      "  2.07663027e+02  2.07662067e+02  2.07669379e+02  2.07674611e+02\n",
      "  2.07673431e+02  2.07673129e+02  2.07658630e+02  2.07660482e+02\n",
      "  6.56807941e-13  2.07653006e+02  2.07688234e+02  2.07654373e+02\n",
      "  2.07647352e+02  2.07667796e+02  2.07652334e+02  2.07676745e+02\n",
      "  2.07678519e+02  2.07677223e+02  2.07704082e+02  2.07673979e+02\n",
      "  2.07677535e+02  2.07665994e+02 -1.67289793e-13  2.07660695e+02\n",
      "  2.07677136e+02  2.07684759e+02  2.07676086e+02  2.07664066e+02\n",
      "  2.07673155e+02  2.07676092e+02  2.07682401e+02  2.07668955e+02\n",
      "  2.07676581e+02  2.07665366e+02  2.07672782e+02  2.07668593e+02\n",
      "  2.07675793e+02  2.07674080e+02  2.07664203e+02 -6.35734521e-13\n",
      "  2.07701048e+02  2.07660749e+02  2.07668468e+02  2.07679410e+02\n",
      "  2.07656314e+02 -2.99881647e-14  2.07687767e+02  2.07661503e+02\n",
      "  2.07647461e+02  2.07681391e+02  2.07648701e+02  2.07653581e+02\n",
      "  2.07672190e+02  2.07651672e+02  2.07680763e+02  2.07681785e+02\n",
      "  2.07686037e+02  2.07657230e+02  2.07664470e+02  2.07766923e+02\n",
      "  2.07675374e+02 -1.56125113e-17  2.07673746e+02  2.07669730e+02\n",
      "  2.07661390e+02  2.07676129e+02  2.07682315e+02  2.07665323e+02\n",
      "  2.07688729e+02  2.07718922e+02  2.07676314e+02  2.07642998e+02\n",
      "  2.07678778e+02  2.07690760e+02  2.07673593e+02  2.07673591e+02\n",
      "  2.07675884e+02  2.07676039e+02  2.07674143e+02  2.07648142e+02\n",
      "  2.07705313e+02 -3.29597460e-17  2.07674959e+02  2.07671753e+02\n",
      "  2.07678262e+02  2.07677501e+02  2.07674268e+02  2.07679127e+02\n",
      "  2.07678684e+02  2.07660884e+02  1.38777878e-17  2.07678988e+02\n",
      "  2.07673573e+02  2.07664047e+02  2.07689116e+02  2.07696011e+02\n",
      "  2.07672795e+02 -6.93889390e-18  2.07689922e+02  2.07678972e+02\n",
      " -1.04083409e-17  2.07667264e+02  2.07608038e+02  2.07642557e+02\n",
      "  2.07689580e+02  2.07676718e+02  2.07673696e+02  2.07679998e+02\n",
      "  2.07685215e+02  2.07705447e+02  2.07683599e+02  2.07673680e+02\n",
      "  2.07693416e+02  2.07676493e+02  2.07688852e+02  2.07641105e+02\n",
      "  2.07681874e+02  2.07682751e+02  2.07674299e+02  2.07674328e+02\n",
      "  2.07685943e+02  2.07675125e+02 -3.46944695e-18  2.07662618e+02\n",
      "  2.07650658e+02  2.07667204e+02 -1.90819582e-17  2.30935063e-17\n",
      "  1.04083409e-17  2.07666155e+02  2.07645401e+02  2.07671992e+02\n",
      " -2.42861287e-17  2.07670759e+02  2.07661901e+02  2.07673123e+02\n",
      "  2.07686376e+02  2.07672423e+02  2.07677317e+02  2.07679123e+02\n",
      "  2.07671162e+02  2.07672708e+02  2.07669226e+02  2.07673255e+02\n",
      " -1.04083409e-17  2.07673764e+02  2.07670180e+02  2.07658210e+02\n",
      "  2.07673300e+02  2.07677569e+02  2.07647330e+02  2.07700984e+02\n",
      "  2.07675132e+02  2.07675696e+02  2.07681266e+02  2.07675985e+02\n",
      "  2.07671174e+02  2.07659848e+02  2.07676040e+02  2.07677874e+02\n",
      "  2.07676118e+02  2.07678286e+02  2.07669378e+02  2.07675061e+02\n",
      "  4.16333634e-17  2.07674059e+02  2.07675126e+02  2.07673330e+02\n",
      "  2.07669164e+02 -6.93889390e-18  2.07632323e+02  2.07673373e+02\n",
      "  2.07679642e+02  2.07675891e+02  2.07664179e+02  2.07675728e+02\n",
      "  2.07674590e+02  2.07685268e+02  2.07688648e+02  1.19262239e-18\n",
      "  2.07674961e+02  1.73472348e-18  2.07683382e+02  2.07684070e+02\n",
      "  2.07641837e+02  2.07639015e+02  2.07656637e+02  2.07680572e+02\n",
      "  2.07665133e+02  2.07666155e+02  2.07700278e+02  2.07672479e+02\n",
      "  2.07685579e+02  2.07671289e+02  2.07711975e+02  0.00000000e+00\n",
      "  2.07679194e+02  2.07644190e+02  2.07675371e+02  2.07682436e+02\n",
      "  2.07678498e+02  2.07704094e+02  2.07681662e+02  2.07670699e+02\n",
      "  2.07676995e+02  2.07675410e+02  2.07668742e+02  2.07662167e+02\n",
      "  2.07680876e+02  2.07673785e+02  2.07650641e+02  2.07667614e+02\n",
      "  2.07670849e+02  2.07672826e+02  2.07675161e+02  2.07666570e+02\n",
      "  2.07671282e+02  2.07667862e+02  2.07673907e+02  2.07674217e+02\n",
      "  2.07708442e+02  2.07673671e+02  2.07676513e+02  2.07685205e+02\n",
      "  2.07675620e+02  2.07663020e+02  2.07677705e+02  2.07675866e+02\n",
      "  2.07654296e+02  2.07668968e+02  2.07670850e+02  2.07677593e+02\n",
      "  0.00000000e+00  2.07681040e+02  0.00000000e+00  2.07659637e+02\n",
      "  2.07665612e+02  0.00000000e+00  2.07663867e+02  2.07657164e+02\n",
      "  2.07675521e+02  2.07654985e+02  2.07670947e+02  0.00000000e+00\n",
      "  2.07675762e+02  2.07681030e+02  2.07681987e+02  2.07675017e+02\n",
      "  2.07673390e+02  2.07671079e+02  2.07667775e+02  2.07659757e+02\n",
      "  2.07685610e+02  0.00000000e+00  2.07664527e+02  2.07700226e+02\n",
      "  0.00000000e+00  2.07675900e+02  1.22731794e+05  1.22731814e+05\n",
      "  1.22731820e+05 -3.68488362e+05]\n"
     ]
    }
   ],
   "source": [
    "model = LinearRegression().fit(X_train_sample, y_train_sample)\n",
    "\n",
    "print('intercept:', model.intercept_)\n",
    "print('slope:', model.coef_)"
   ]
  },
  {
   "cell_type": "code",
   "execution_count": 163,
   "id": "a89daef6",
   "metadata": {},
   "outputs": [
    {
     "name": "stdout",
     "output_type": "stream",
     "text": [
      "0.9989884567630553 0.998948642712845\n"
     ]
    }
   ],
   "source": [
    "#R_Square and Adjusted R Square\n",
    "X_addC = sm.add_constant(X_train_sample)\n",
    "result = sm.OLS(y_train_sample, X_addC).fit()\n",
    "print(result.rsquared, result.rsquared_adj)\n",
    "\n",
    "\n",
    "# Linear Regression Predictions\n",
    "y_pred = model.predict(X_test_sample)\n",
    "\n"
   ]
  },
  {
   "cell_type": "code",
   "execution_count": 164,
   "id": "627274f4",
   "metadata": {},
   "outputs": [
    {
     "name": "stdout",
     "output_type": "stream",
     "text": [
      "Mean Squared Error = 209.24602351083973\n",
      "Root Mean Squared Error = 14.465338693263968\n"
     ]
    }
   ],
   "source": [
    "# Mean Square Error(MSE)/Root Mean Square Error(RMSE)\n",
    "\n",
    "MSE_LR6 = mean_squared_error(y_test_sample, y_pred)\n",
    "RMSE_LR6 = math.sqrt(mean_squared_error(y_test_sample, y_pred))\n",
    "print('Mean Squared Error =', MSE_LR6)\n",
    "print('Root Mean Squared Error =', RMSE_LR6)"
   ]
  },
  {
   "cell_type": "code",
   "execution_count": 165,
   "id": "fd8d5d29",
   "metadata": {},
   "outputs": [
    {
     "data": {
      "text/html": [
       "<div>\n",
       "<style scoped>\n",
       "    .dataframe tbody tr th:only-of-type {\n",
       "        vertical-align: middle;\n",
       "    }\n",
       "\n",
       "    .dataframe tbody tr th {\n",
       "        vertical-align: top;\n",
       "    }\n",
       "\n",
       "    .dataframe thead th {\n",
       "        text-align: right;\n",
       "    }\n",
       "</style>\n",
       "<table border=\"1\" class=\"dataframe\">\n",
       "  <thead>\n",
       "    <tr style=\"text-align: right;\">\n",
       "      <th></th>\n",
       "      <th>R-Square</th>\n",
       "      <th>MSE</th>\n",
       "    </tr>\n",
       "  </thead>\n",
       "  <tbody>\n",
       "    <tr>\n",
       "      <th>Linear Regression (LR)</th>\n",
       "      <td>0.998989</td>\n",
       "      <td>7.931836e+07</td>\n",
       "    </tr>\n",
       "    <tr>\n",
       "      <th>Random Forest (RF)</th>\n",
       "      <td>0.998234</td>\n",
       "      <td>2.092232e-03</td>\n",
       "    </tr>\n",
       "    <tr>\n",
       "      <th>Neural Network (NN)</th>\n",
       "      <td>0.998461</td>\n",
       "      <td>6.993865e+01</td>\n",
       "    </tr>\n",
       "    <tr>\n",
       "      <th>RF - Max Depth 5</th>\n",
       "      <td>0.953386</td>\n",
       "      <td>5.524047e-02</td>\n",
       "    </tr>\n",
       "    <tr>\n",
       "      <th>RF - 250 estimators</th>\n",
       "      <td>0.998265</td>\n",
       "      <td>2.056215e-03</td>\n",
       "    </tr>\n",
       "    <tr>\n",
       "      <th>NN - lbfgs solver</th>\n",
       "      <td>0.998945</td>\n",
       "      <td>4.795226e+01</td>\n",
       "    </tr>\n",
       "    <tr>\n",
       "      <th>NN - sgd solver</th>\n",
       "      <td>-0.000032</td>\n",
       "      <td>4.545953e+04</td>\n",
       "    </tr>\n",
       "    <tr>\n",
       "      <th>NN - more hidden layers</th>\n",
       "      <td>0.998445</td>\n",
       "      <td>7.066568e+01</td>\n",
       "    </tr>\n",
       "    <tr>\n",
       "      <th>LR - No train-test</th>\n",
       "      <td>0.999024</td>\n",
       "      <td>1.018259e-03</td>\n",
       "    </tr>\n",
       "    <tr>\n",
       "      <th>LR - PCA Feature</th>\n",
       "      <td>0.998641</td>\n",
       "      <td>1.348530e-03</td>\n",
       "    </tr>\n",
       "    <tr>\n",
       "      <th>LR - without DepDelay</th>\n",
       "      <td>0.998988</td>\n",
       "      <td>2.092460e+02</td>\n",
       "    </tr>\n",
       "  </tbody>\n",
       "</table>\n",
       "</div>"
      ],
      "text/plain": [
       "                         R-Square           MSE\n",
       "Linear Regression (LR)   0.998989  7.931836e+07\n",
       "Random Forest (RF)       0.998234  2.092232e-03\n",
       "Neural Network (NN)      0.998461  6.993865e+01\n",
       "RF - Max Depth 5         0.953386  5.524047e-02\n",
       "RF - 250 estimators      0.998265  2.056215e-03\n",
       "NN - lbfgs solver        0.998945  4.795226e+01\n",
       "NN - sgd solver         -0.000032  4.545953e+04\n",
       "NN - more hidden layers  0.998445  7.066568e+01\n",
       "LR - No train-test       0.999024  1.018259e-03\n",
       "LR - PCA Feature         0.998641  1.348530e-03\n",
       "LR - without DepDelay    0.998988  2.092460e+02"
      ]
     },
     "execution_count": 165,
     "metadata": {},
     "output_type": "execute_result"
    }
   ],
   "source": [
    "score = pd.DataFrame([{'R-Square': result.rsquared, 'MSE': MSE_LR6}], index=['LR - without DepDelay'])\n",
    "df_mse_r2 = df_mse_r2.append(score)\n",
    "df_mse_r2"
   ]
  },
  {
   "cell_type": "markdown",
   "id": "ff5cc5af",
   "metadata": {},
   "source": [
    "Using Multiple Linear Regression the MSE is reduced (improve the model) if DepDelya is not consider."
   ]
  },
  {
   "cell_type": "markdown",
   "id": "aa157171",
   "metadata": {},
   "source": [
    "## Random Forest \n"
   ]
  },
  {
   "cell_type": "code",
   "execution_count": 166,
   "id": "72c740d1",
   "metadata": {},
   "outputs": [],
   "source": [
    "# Instantiate model with 100 decision trees\n",
    "rf = RandomForestRegressor(n_estimators = 100, random_state = 42)\n",
    "\n",
    "# Train the model on training data\n",
    "rf.fit(X_train_sample, y_train_sample);"
   ]
  },
  {
   "cell_type": "code",
   "execution_count": 167,
   "id": "5f5756cb",
   "metadata": {},
   "outputs": [],
   "source": [
    "# Use the forest's predict method on the test data\n",
    "y_pred_RF = rf.predict(X_test_sample)"
   ]
  },
  {
   "cell_type": "code",
   "execution_count": 168,
   "id": "d08066e0",
   "metadata": {},
   "outputs": [
    {
     "data": {
      "text/plain": [
       "0.9936551307545963"
      ]
     },
     "execution_count": 168,
     "metadata": {},
     "output_type": "execute_result"
    }
   ],
   "source": [
    "r_sq = rf.score(X_test_sample, y_test_sample)\n",
    "r_sq"
   ]
  },
  {
   "cell_type": "code",
   "execution_count": 169,
   "id": "7f0be97a",
   "metadata": {},
   "outputs": [
    {
     "name": "stdout",
     "output_type": "stream",
     "text": [
      "Mean Squared Error = 0.007519007454090806\n",
      "Root Mean Squared Error = 0.08671221052476293\n"
     ]
    }
   ],
   "source": [
    "# Mean Square Error(MSE)/Root Mean Square Error(RMSE)\n",
    "MSE_RF = mean_squared_error(y_test_sample, y_pred_RF)\n",
    "RMSE_RF = math.sqrt(mean_squared_error(y_test_sample, y_pred_RF))\n",
    "print('Mean Squared Error =', MSE_RF)\n",
    "print('Root Mean Squared Error =', RMSE_RF)"
   ]
  },
  {
   "cell_type": "markdown",
   "id": "ecc9049c",
   "metadata": {},
   "source": [
    "Using Random Forest the model still get good results but just slightly worst than when the DepDelay was in the dataframe, which is shown by a higher RMSE."
   ]
  },
  {
   "cell_type": "code",
   "execution_count": 170,
   "id": "c8529e60",
   "metadata": {},
   "outputs": [
    {
     "data": {
      "text/html": [
       "<div>\n",
       "<style scoped>\n",
       "    .dataframe tbody tr th:only-of-type {\n",
       "        vertical-align: middle;\n",
       "    }\n",
       "\n",
       "    .dataframe tbody tr th {\n",
       "        vertical-align: top;\n",
       "    }\n",
       "\n",
       "    .dataframe thead th {\n",
       "        text-align: right;\n",
       "    }\n",
       "</style>\n",
       "<table border=\"1\" class=\"dataframe\">\n",
       "  <thead>\n",
       "    <tr style=\"text-align: right;\">\n",
       "      <th></th>\n",
       "      <th>R-Square</th>\n",
       "      <th>MSE</th>\n",
       "    </tr>\n",
       "  </thead>\n",
       "  <tbody>\n",
       "    <tr>\n",
       "      <th>Linear Regression (LR)</th>\n",
       "      <td>0.998989</td>\n",
       "      <td>7.931836e+07</td>\n",
       "    </tr>\n",
       "    <tr>\n",
       "      <th>Random Forest (RF)</th>\n",
       "      <td>0.998234</td>\n",
       "      <td>2.092232e-03</td>\n",
       "    </tr>\n",
       "    <tr>\n",
       "      <th>Neural Network (NN)</th>\n",
       "      <td>0.998461</td>\n",
       "      <td>6.993865e+01</td>\n",
       "    </tr>\n",
       "    <tr>\n",
       "      <th>RF - Max Depth 5</th>\n",
       "      <td>0.953386</td>\n",
       "      <td>5.524047e-02</td>\n",
       "    </tr>\n",
       "    <tr>\n",
       "      <th>RF - 250 estimators</th>\n",
       "      <td>0.998265</td>\n",
       "      <td>2.056215e-03</td>\n",
       "    </tr>\n",
       "    <tr>\n",
       "      <th>NN - lbfgs solver</th>\n",
       "      <td>0.998945</td>\n",
       "      <td>4.795226e+01</td>\n",
       "    </tr>\n",
       "    <tr>\n",
       "      <th>NN - sgd solver</th>\n",
       "      <td>-0.000032</td>\n",
       "      <td>4.545953e+04</td>\n",
       "    </tr>\n",
       "    <tr>\n",
       "      <th>NN - more hidden layers</th>\n",
       "      <td>0.998445</td>\n",
       "      <td>7.066568e+01</td>\n",
       "    </tr>\n",
       "    <tr>\n",
       "      <th>LR - No train-test</th>\n",
       "      <td>0.999024</td>\n",
       "      <td>1.018259e-03</td>\n",
       "    </tr>\n",
       "    <tr>\n",
       "      <th>LR - PCA Feature</th>\n",
       "      <td>0.998641</td>\n",
       "      <td>1.348530e-03</td>\n",
       "    </tr>\n",
       "    <tr>\n",
       "      <th>LR - without DepDelay</th>\n",
       "      <td>0.998988</td>\n",
       "      <td>2.092460e+02</td>\n",
       "    </tr>\n",
       "    <tr>\n",
       "      <th>RF - without DepDelay</th>\n",
       "      <td>0.993655</td>\n",
       "      <td>7.519007e-03</td>\n",
       "    </tr>\n",
       "  </tbody>\n",
       "</table>\n",
       "</div>"
      ],
      "text/plain": [
       "                         R-Square           MSE\n",
       "Linear Regression (LR)   0.998989  7.931836e+07\n",
       "Random Forest (RF)       0.998234  2.092232e-03\n",
       "Neural Network (NN)      0.998461  6.993865e+01\n",
       "RF - Max Depth 5         0.953386  5.524047e-02\n",
       "RF - 250 estimators      0.998265  2.056215e-03\n",
       "NN - lbfgs solver        0.998945  4.795226e+01\n",
       "NN - sgd solver         -0.000032  4.545953e+04\n",
       "NN - more hidden layers  0.998445  7.066568e+01\n",
       "LR - No train-test       0.999024  1.018259e-03\n",
       "LR - PCA Feature         0.998641  1.348530e-03\n",
       "LR - without DepDelay    0.998988  2.092460e+02\n",
       "RF - without DepDelay    0.993655  7.519007e-03"
      ]
     },
     "execution_count": 170,
     "metadata": {},
     "output_type": "execute_result"
    }
   ],
   "source": [
    "score = pd.DataFrame([{'R-Square': r_sq, 'MSE': MSE_RF}], index=['RF - without DepDelay'])\n",
    "df_mse_r2 = df_mse_r2.append(score)\n",
    "df_mse_r2"
   ]
  },
  {
   "cell_type": "code",
   "execution_count": 171,
   "id": "27ed03c1",
   "metadata": {},
   "outputs": [
    {
     "data": {
      "text/html": [
       "<div>\n",
       "<style scoped>\n",
       "    .dataframe tbody tr th:only-of-type {\n",
       "        vertical-align: middle;\n",
       "    }\n",
       "\n",
       "    .dataframe tbody tr th {\n",
       "        vertical-align: top;\n",
       "    }\n",
       "\n",
       "    .dataframe thead th {\n",
       "        text-align: right;\n",
       "    }\n",
       "</style>\n",
       "<table border=\"1\" class=\"dataframe\">\n",
       "  <thead>\n",
       "    <tr style=\"text-align: right;\">\n",
       "      <th></th>\n",
       "      <th>R-Square</th>\n",
       "      <th>MSE</th>\n",
       "    </tr>\n",
       "  </thead>\n",
       "  <tbody>\n",
       "    <tr>\n",
       "      <th>LR - No train-test</th>\n",
       "      <td>0.999024</td>\n",
       "      <td>1.018259e-03</td>\n",
       "    </tr>\n",
       "    <tr>\n",
       "      <th>LR - PCA Feature</th>\n",
       "      <td>0.998641</td>\n",
       "      <td>1.348530e-03</td>\n",
       "    </tr>\n",
       "    <tr>\n",
       "      <th>RF - 250 estimators</th>\n",
       "      <td>0.998265</td>\n",
       "      <td>2.056215e-03</td>\n",
       "    </tr>\n",
       "    <tr>\n",
       "      <th>Random Forest (RF)</th>\n",
       "      <td>0.998234</td>\n",
       "      <td>2.092232e-03</td>\n",
       "    </tr>\n",
       "    <tr>\n",
       "      <th>RF - without DepDelay</th>\n",
       "      <td>0.993655</td>\n",
       "      <td>7.519007e-03</td>\n",
       "    </tr>\n",
       "    <tr>\n",
       "      <th>RF - Max Depth 5</th>\n",
       "      <td>0.953386</td>\n",
       "      <td>5.524047e-02</td>\n",
       "    </tr>\n",
       "    <tr>\n",
       "      <th>NN - lbfgs solver</th>\n",
       "      <td>0.998945</td>\n",
       "      <td>4.795226e+01</td>\n",
       "    </tr>\n",
       "    <tr>\n",
       "      <th>Neural Network (NN)</th>\n",
       "      <td>0.998461</td>\n",
       "      <td>6.993865e+01</td>\n",
       "    </tr>\n",
       "    <tr>\n",
       "      <th>NN - more hidden layers</th>\n",
       "      <td>0.998445</td>\n",
       "      <td>7.066568e+01</td>\n",
       "    </tr>\n",
       "    <tr>\n",
       "      <th>LR - without DepDelay</th>\n",
       "      <td>0.998988</td>\n",
       "      <td>2.092460e+02</td>\n",
       "    </tr>\n",
       "    <tr>\n",
       "      <th>NN - sgd solver</th>\n",
       "      <td>-0.000032</td>\n",
       "      <td>4.545953e+04</td>\n",
       "    </tr>\n",
       "    <tr>\n",
       "      <th>Linear Regression (LR)</th>\n",
       "      <td>0.998989</td>\n",
       "      <td>7.931836e+07</td>\n",
       "    </tr>\n",
       "  </tbody>\n",
       "</table>\n",
       "</div>"
      ],
      "text/plain": [
       "                         R-Square           MSE\n",
       "LR - No train-test       0.999024  1.018259e-03\n",
       "LR - PCA Feature         0.998641  1.348530e-03\n",
       "RF - 250 estimators      0.998265  2.056215e-03\n",
       "Random Forest (RF)       0.998234  2.092232e-03\n",
       "RF - without DepDelay    0.993655  7.519007e-03\n",
       "RF - Max Depth 5         0.953386  5.524047e-02\n",
       "NN - lbfgs solver        0.998945  4.795226e+01\n",
       "Neural Network (NN)      0.998461  6.993865e+01\n",
       "NN - more hidden layers  0.998445  7.066568e+01\n",
       "LR - without DepDelay    0.998988  2.092460e+02\n",
       "NN - sgd solver         -0.000032  4.545953e+04\n",
       "Linear Regression (LR)   0.998989  7.931836e+07"
      ]
     },
     "execution_count": 171,
     "metadata": {},
     "output_type": "execute_result"
    }
   ],
   "source": [
    "df_mse_r2.sort_values(by=\"MSE\")"
   ]
  },
  {
   "cell_type": "markdown",
   "id": "9702a976",
   "metadata": {},
   "source": [
    "**Conclusion**\n",
    "\n",
    "The Random Forest model provide quite consistently the best results with small differences in the MSE depending of how the data has been prepared for the model or the model parameters used.\n",
    "\n",
    "The Linear Regression provide a good result after the data has been reduced using PCA.\n",
    "\n",
    "Linear Regression using all data provide the best results, but it is not recommended as we can have overfitting and we don´t have data to test the results of the model. If there is enough data train-test-split should always be consider."
   ]
  }
 ],
 "metadata": {
  "kernelspec": {
   "display_name": "Python 3 (ipykernel)",
   "language": "python",
   "name": "python3"
  },
  "language_info": {
   "codemirror_mode": {
    "name": "ipython",
    "version": 3
   },
   "file_extension": ".py",
   "mimetype": "text/x-python",
   "name": "python",
   "nbconvert_exporter": "python",
   "pygments_lexer": "ipython3",
   "version": "3.9.7"
  }
 },
 "nbformat": 4,
 "nbformat_minor": 5
}
